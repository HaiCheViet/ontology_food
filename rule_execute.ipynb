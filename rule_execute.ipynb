{
 "cells": [
  {
   "cell_type": "code",
   "execution_count": 1,
   "metadata": {},
   "outputs": [],
   "source": [
    "import sys\n",
    "import os\n",
    "import re\n",
    "from query_rdfs import *\n",
    "import itertools\n",
    "\n",
    "sys.path.append(os.path.join(os.path.dirname(\"__file__\"), '..'))\n",
    "current_dir = os.path.dirname(\"__file__\")\n",
    "current_dir = current_dir if current_dir is not '' else '.'\n",
    "# directory to scan for any txt files\n",
    "data_dir_path = current_dir + '/rule'\n",
    "\n",
    "\n",
    "known = {\"name\": \"Che Viet Hai\", \"height\": 170, \"weight\": 55, \"gender\": \"nam\", \n",
    "         \"age\": 17, \"PhysicalActiveLevel\": \"Hoạt động vừa\", \"target\": \"giữ cân\",\n",
    "         \"ListIllness\": \"Bệnh béo phì\"}\n",
    "data_rule = []\n",
    "function = []"
   ]
  },
  {
   "cell_type": "code",
   "execution_count": 2,
   "metadata": {},
   "outputs": [],
   "source": [
    "with open(data_dir_path + \"/rule.txt\", \"r\", encoding=\"utf8\") as f:\n",
    "    for line in f:\n",
    "        data_rule.append(line)\n",
    "with open(data_dir_path + \"/function.txt\", \"r\", encoding=\"utf8\") as f:\n",
    "    for line in f:\n",
    "        function.append(line)"
   ]
  },
  {
   "cell_type": "code",
   "execution_count": 3,
   "metadata": {},
   "outputs": [
    {
     "name": "stdout",
     "output_type": "stream",
     "text": [
      "['\\ufeffbmr,nu=447.593+(9.247*weight)+(3.098*height)-(4.33*age)\\n', 'bmr,nam=88.362+(13.397 *weight)+(4.799*height)-(5.677*age)\\n', 'bmi=weight/(height*height)\\n', 'calo=BMRvalue*PhysicalActiveValue\\n', '1.2:Quá ít hoạt động\\n', '1.375:Ít hoạt động\\n', '1.55:Hoạt động vừa\\n', '1.725:Hoạt động nhiều\\n', '1.9:Hoạt động cường độ cao']\n"
     ]
    }
   ],
   "source": [
    "print(function)"
   ]
  },
  {
   "cell_type": "markdown",
   "metadata": {},
   "source": [
    "# BMI function"
   ]
  },
  {
   "cell_type": "code",
   "execution_count": 4,
   "metadata": {},
   "outputs": [],
   "source": [
    "def BMIvalueCalc(height, weight):\n",
    "    height/=100\n",
    "    return round(eval(function[2].split(\"=\")[1]),2)\n",
    "\n",
    "def BMIrangeCalc(bmi_value):\n",
    "    return BMI_range_calc(bmi_value)\n",
    "\n",
    "def BMIlevelCalc(bmi_range):\n",
    "    return has_value(bmi_range)[\"value\"]"
   ]
  },
  {
   "cell_type": "markdown",
   "metadata": {},
   "source": [
    "# BMR function"
   ]
  },
  {
   "cell_type": "code",
   "execution_count": 5,
   "metadata": {},
   "outputs": [],
   "source": [
    "def BMRvalueOfMaleCalc(height, weight, age):\n",
    "    function[1] = function[1].split(\"=\")[1]\n",
    "    return round(eval(function[1]), 2)\n",
    "\n",
    "def BMRvalueOfFemaleCalc(height, weight, age):\n",
    "    function[1] = function[1].split(\"=\")[1]\n",
    "    return round(eval(function[1]), 2)\n",
    "\n",
    "# print (BMIvalueCalc(height,weight)) "
   ]
  },
  {
   "cell_type": "markdown",
   "metadata": {},
   "source": [
    "# PA function"
   ]
  },
  {
   "cell_type": "code",
   "execution_count": 6,
   "metadata": {},
   "outputs": [],
   "source": [
    "def PAvalueCalc(PhysicalActiveLevel):\n",
    "    for count in range(4,9):\n",
    "        result = function[count].split(\":\")\n",
    "        if result[1].endswith(\"\\n\"):\n",
    "            result[1] = result[1][:-1]\n",
    "        if  result[1] == PhysicalActiveLevel:\n",
    "            return float(result[0])"
   ]
  },
  {
   "cell_type": "markdown",
   "metadata": {},
   "source": [
    "# CaloCalc function"
   ]
  },
  {
   "cell_type": "code",
   "execution_count": 7,
   "metadata": {},
   "outputs": [],
   "source": [
    "def CaloCalc(BMRvalue, PhysicalActiveValue, target):\n",
    "    result = round(eval(function[3].split(\"=\")[1]),2)\n",
    "    if target == \"tăng cân\":\n",
    "        result +=500\n",
    "    elif target == \"giảm cân\":\n",
    "        result -=500\n",
    "    return result\n",
    "\n",
    "def CaloToKeepWeightCalc(calo_per_day):\n",
    "    # breakfast: 26%, #Lunch: 40%, # Dinner: 34%\n",
    "    return [round(calo_per_day*26/100, 2), \n",
    "            round(calo_per_day*40/100, 2), round(calo_per_day*34/100, 2)]    "
   ]
  },
  {
   "cell_type": "markdown",
   "metadata": {},
   "source": [
    "# ListFood function"
   ]
  },
  {
   "cell_type": "code",
   "execution_count": 8,
   "metadata": {},
   "outputs": [],
   "source": [
    "def FindAvoidFood(list_illness):\n",
    "    return avoided_group_food(list_illness) # return array\n",
    "\n",
    "def FindNeedFood(list_illness):\n",
    "    return needed_group_food(list_illness)\n",
    "\n",
    "def FindLimitFood(list_illness):\n",
    "    return limit_food(list_illness)\n",
    "\n",
    "def FilterFood(list_avoid_food, list_need_food, \n",
    "               list_limit_food):\n",
    "    result = {}\n",
    "    list_all_food = []\n",
    "    print(all_food())\n",
    "    tamp_list = [food.split(\"|\") for food in all_food()]\n",
    "    set_avoid_food = set(list_avoid_food)\n",
    "    for food in tamp_list:\n",
    "        if food[0] not in set_avoid_food:\n",
    "            list_all_food.append(food)\n",
    "    print(list_all_food)\n",
    "    for food_1 in list_all_food:\n",
    "        if food_1[0] in list_need_food:\n",
    "            food_1.append(1)\n",
    "            result[food_1[0]] = food_1[1:]\n",
    "        elif food_1[0] in list_limit_food:\n",
    "            food_1.append(-1)\n",
    "            result[food_1[0]] = food_1[1:]\n",
    "        else:\n",
    "            food_1.append(0)\n",
    "            result[food_1[0]] = food_1[1:]\n",
    "    return result"
   ]
  },
  {
   "cell_type": "markdown",
   "metadata": {},
   "source": [
    "# CreateMenu Function"
   ]
  },
  {
   "cell_type": "code",
   "execution_count": 9,
   "metadata": {},
   "outputs": [],
   "source": [
    "def extract_rule_left(rule_left):\n",
    "    rule_left = re.findall(r'\\[(.*?)\\]',rule_left)\n",
    "    flag = True\n",
    "    for content in rule_left:\n",
    "        content = content.split(\",\")\n",
    "        if content[0] == \"1\":\n",
    "            if content[1] not in known:\n",
    "                flag = False\n",
    "                break\n",
    "        elif content[0] == \"2\":\n",
    "            try:\n",
    "                if known[content[1]] != content[2]:\n",
    "                    flag = False\n",
    "                    break\n",
    "            except:\n",
    "                flag = False\n",
    "                break\n",
    "    return flag\n",
    "                \n",
    "def extract_rule_right(rule_right):\n",
    "    rule_right = rule_right.split(\",\", 1)\n",
    "    flag = True\n",
    "    rule_right[0] = rule_right[0][1:]\n",
    "    rule_right[1] = rule_right[1][:-2]\n",
    "    if rule_right[0] in known:\n",
    "        flag = False\n",
    "    else:\n",
    "        funct = rule_right[1].split(':')[1]\n",
    "        known[rule_right[0]] = eval(funct)\n",
    "    return flag\n",
    "    \n",
    "def extract_rule(rule):\n",
    "    flag = True\n",
    "    rule_left, rule_right = rule.split(\"|\")\n",
    "    flag = extract_rule_left(rule_left)\n",
    "    if flag is False:\n",
    "        return flag\n",
    "    else: \n",
    "        flag = extract_rule_right(rule_right)\n",
    "    return flag"
   ]
  },
  {
   "cell_type": "code",
   "execution_count": 10,
   "metadata": {},
   "outputs": [
    {
     "name": "stdout",
     "output_type": "stream",
     "text": [
      "True\n",
      "True\n",
      "True\n",
      "True\n",
      "True\n",
      "True\n",
      "True\n",
      "True\n",
      "True\n",
      "True\n",
      "['Süt|Dairy_Products|32|', 'Atiso|Vegetables|47|', 'Bí_đỏ|Vegetables|559|', 'Bơ|Fruits|160|', 'Bạc_hà|Vegetables|70|', 'Bắp|Fruits|86|', 'Bắp_cải|Vegetables|25|', 'Chanh|Fruits|29|', 'Cà_chua|Fruits|18|', 'Cà_rốt|Vegetables|41|', 'Cà_tím|Vegetables|24|', 'Cần_tây|Vegetables|16|', 'Củ_hành|Vegetables|40|', 'Củ_sắn|Vegetables|38|', 'Dâu_tây|Fruits|32|', 'Dưa_hấu|Fruits|30|', 'Dưa_leo|Vegetables|15|', 'Dừa|Fruits|354|', \"Gừng|Vegetables|80|['Thịt_chó', 'Thịt_cá', 'Thịt_thỏ']\", 'Hẹ|Vegetables|30|', 'Khóm|Fruits|50|', 'Măng|Vegetables|27|', 'Nho|Fruits|299|', 'Rau_muốn|Vegetables|19|', 'Sầu_riêng|Fruits|147|', 'Thơm|Fruits|50|', 'Thịt_bò|Meat|254|', 'Thịt_cừu|Meat|282|', \"Thịt_gà|Meat|143|['Cua_biển', 'Tôm']\", 'Thịt_gà_tây|Meat|149|', 'Thịt_heo|Meat|243|', 'Thịt_lợn_rừng|Meat|160|', 'Thịt_vịt|Meat|132|', 'Táo|Fruits|52|', 'Xoài|Fruits|70|', 'Xà_lách|Vegetables|41|', 'Đu_Đủ|Fruits|43|', 'Đậu_nành|Vegetables|109|', 'Ổi|Fruits|68|']\n",
      "[['Süt', 'Dairy_Products', '32', ''], ['Atiso', 'Vegetables', '47', ''], ['Bí_đỏ', 'Vegetables', '559', ''], ['Bơ', 'Fruits', '160', ''], ['Bạc_hà', 'Vegetables', '70', ''], ['Bắp', 'Fruits', '86', ''], ['Bắp_cải', 'Vegetables', '25', ''], ['Chanh', 'Fruits', '29', ''], ['Cà_chua', 'Fruits', '18', ''], ['Cà_rốt', 'Vegetables', '41', ''], ['Cà_tím', 'Vegetables', '24', ''], ['Cần_tây', 'Vegetables', '16', ''], ['Củ_hành', 'Vegetables', '40', ''], ['Củ_sắn', 'Vegetables', '38', ''], ['Dâu_tây', 'Fruits', '32', ''], ['Dưa_hấu', 'Fruits', '30', ''], ['Dưa_leo', 'Vegetables', '15', ''], ['Dừa', 'Fruits', '354', ''], ['Gừng', 'Vegetables', '80', \"['Thịt_chó', 'Thịt_cá', 'Thịt_thỏ']\"], ['Hẹ', 'Vegetables', '30', ''], ['Khóm', 'Fruits', '50', ''], ['Măng', 'Vegetables', '27', ''], ['Nho', 'Fruits', '299', ''], ['Rau_muốn', 'Vegetables', '19', ''], ['Sầu_riêng', 'Fruits', '147', ''], ['Thơm', 'Fruits', '50', ''], ['Thịt_bò', 'Meat', '254', ''], ['Thịt_cừu', 'Meat', '282', ''], ['Thịt_gà', 'Meat', '143', \"['Cua_biển', 'Tôm']\"], ['Thịt_gà_tây', 'Meat', '149', ''], ['Thịt_heo', 'Meat', '243', ''], ['Thịt_lợn_rừng', 'Meat', '160', ''], ['Thịt_vịt', 'Meat', '132', ''], ['Táo', 'Fruits', '52', ''], ['Xoài', 'Fruits', '70', ''], ['Xà_lách', 'Vegetables', '41', ''], ['Đu_Đủ', 'Fruits', '43', ''], ['Đậu_nành', 'Vegetables', '109', ''], ['Ổi', 'Fruits', '68', '']]\n",
      "True\n"
     ]
    }
   ],
   "source": [
    "count = 0\n",
    "while count <= 13:\n",
    "    if extract_rule(data_rule[count]) == True:\n",
    "        print(\"True\")\n",
    "        count = 0\n",
    "    else: count+=1        "
   ]
  },
  {
   "cell_type": "code",
   "execution_count": 40,
   "metadata": {},
   "outputs": [
    {
     "name": "stdout",
     "output_type": "stream",
     "text": [
      "False\n"
     ]
    }
   ],
   "source": [
    "print(extract_rule(data_rule[13]))"
   ]
  },
  {
   "cell_type": "code",
   "execution_count": 11,
   "metadata": {},
   "outputs": [
    {
     "name": "stdout",
     "output_type": "stream",
     "text": [
      "{'name': 'Che Viet Hai', 'height': 170, 'weight': 55, 'gender': 'nam', 'age': 17, 'PhysicalActiveLevel': 'Hoạt động vừa', 'target': 'giữ cân', 'ListIllness': 'Bệnh béo phì', 'BMIvalue': 19.03, 'BMIrange': '18.50-24.99', 'BMIlevel': 'Bình_thường', 'BMRvalue': 1544.52, 'PhysicalActiveValue': 1.55, 'CaloPerDay': 2394.01, 'CaloForEachMeal': [622.44, 957.6, 813.96], 'ListAvoidFood': ['Butter', 'Peanut', 'Khoai_tây'], 'ListNeedFood': ['Bắp', 'Cà_rốt', 'Mực', 'Nho', 'Dưa_hấu', 'Táo'], 'ListLimitFood': ['Butter'], 'ListFood': {'Süt': ['Dairy_Products', '32', '', 0], 'Atiso': ['Vegetables', '47', '', 0], 'Bí_đỏ': ['Vegetables', '559', '', 0], 'Bơ': ['Fruits', '160', '', 0], 'Bạc_hà': ['Vegetables', '70', '', 0], 'Bắp': ['Fruits', '86', '', 1], 'Bắp_cải': ['Vegetables', '25', '', 0], 'Chanh': ['Fruits', '29', '', 0], 'Cà_chua': ['Fruits', '18', '', 0], 'Cà_rốt': ['Vegetables', '41', '', 1], 'Cà_tím': ['Vegetables', '24', '', 0], 'Cần_tây': ['Vegetables', '16', '', 0], 'Củ_hành': ['Vegetables', '40', '', 0], 'Củ_sắn': ['Vegetables', '38', '', 0], 'Dâu_tây': ['Fruits', '32', '', 0], 'Dưa_hấu': ['Fruits', '30', '', 1], 'Dưa_leo': ['Vegetables', '15', '', 0], 'Dừa': ['Fruits', '354', '', 0], 'Gừng': ['Vegetables', '80', \"['Thịt_chó', 'Thịt_cá', 'Thịt_thỏ']\", 0], 'Hẹ': ['Vegetables', '30', '', 0], 'Khóm': ['Fruits', '50', '', 0], 'Măng': ['Vegetables', '27', '', 0], 'Nho': ['Fruits', '299', '', 1], 'Rau_muốn': ['Vegetables', '19', '', 0], 'Sầu_riêng': ['Fruits', '147', '', 0], 'Thơm': ['Fruits', '50', '', 0], 'Thịt_bò': ['Meat', '254', '', 0], 'Thịt_cừu': ['Meat', '282', '', 0], 'Thịt_gà': ['Meat', '143', \"['Cua_biển', 'Tôm']\", 0], 'Thịt_gà_tây': ['Meat', '149', '', 0], 'Thịt_heo': ['Meat', '243', '', 0], 'Thịt_lợn_rừng': ['Meat', '160', '', 0], 'Thịt_vịt': ['Meat', '132', '', 0], 'Táo': ['Fruits', '52', '', 1], 'Xoài': ['Fruits', '70', '', 0], 'Xà_lách': ['Vegetables', '41', '', 0], 'Đu_Đủ': ['Fruits', '43', '', 0], 'Đậu_nành': ['Vegetables', '109', '', 0], 'Ổi': ['Fruits', '68', '', 0]}}\n"
     ]
    }
   ],
   "source": [
    "print(known)"
   ]
  },
  {
   "cell_type": "code",
   "execution_count": 97,
   "metadata": {},
   "outputs": [],
   "source": [
    "def find_type(list_food, types):\n",
    "    result = {}\n",
    "    for food in list_food:\n",
    "        if list_food[food][0] == types:\n",
    "            result[food] = list_food[food]\n",
    "    return result\n",
    "\n",
    "def FindListBreakFast(list_food):\n",
    "    structure_breakfast = list_structure_breakfast(list_food[\"only_food_name\"])\n",
    "    print(structure_breakfast)\n",
    "\n",
    "def FindlistDinner(list_food):\n",
    "    structure_dinner = list_structure_dinner(list_food[\"only_food_name\"])\n",
    "    print(structure_dinner)\n",
    "    \n",
    "def FindlistLunch(known):\n",
    "    list_food = known[\"ListFood\"]\n",
    "    calor_each_meal = known[\"CaloForEachMeal\"][1]\n",
    "    \n",
    "    result = {}\n",
    "    structure_lunch = list_structure_lunch(list_food)\n",
    "    for element in structure_lunch:\n",
    "        for key in element:\n",
    "            if key == \"fix\" and len(element[\"fix\"][0]) ==1:\n",
    "                food = element[\"fix\"][0][0]\n",
    "                calor_tamp = calor_each_meal * element[\"fix\"][1]\n",
    "                portion = round(calor_tamp / float(list_food[food][1]) * 100, 1)\n",
    "                result[food] = [calor_tamp, portion]\n",
    "                for food in element[\"fix\"][0]:\n",
    "                    list_food[food] \n",
    "            else:\n",
    "                types = key\n",
    "                print(types)\n",
    "                list_food_types = find_type(list_food, types)\n",
    "                print(list_food_types)\n",
    "                sorted_by_value = dict(sorted(list_food_types.items(), key=lambda kv: kv[1][1]))\n",
    "                print(sorted_by_value)\n",
    "                for count, key in enumerate(sorted_by_value):\n",
    "                    if count > 3: break\n",
    "                    else:\n",
    "                        result[key] = sorted_by_value[key]                         \n",
    "    print(structure_lunch)\n",
    "    print(result)"
   ]
  },
  {
   "cell_type": "code",
   "execution_count": 98,
   "metadata": {},
   "outputs": [
    {
     "name": "stdout",
     "output_type": "stream",
     "text": [
      "Egg_Products\n",
      "{'Süt': ['Dairy_Products', '32', '', 0], 'Atiso': ['Vegetables', '47', '', 0], 'Bí_đỏ': ['Vegetables', '559', '', 0], 'Bơ': ['Fruits', '160', '', 0], 'Bạc_hà': ['Vegetables', '70', '', 0], 'Bắp': ['Fruits', '86', '', 1], 'Bắp_cải': ['Vegetables', '25', '', 0], 'Chanh': ['Fruits', '29', '', 0], 'Cà_chua': ['Fruits', '18', '', 0], 'Cà_rốt': ['Vegetables', '41', '', 1], 'Cà_tím': ['Vegetables', '24', '', 0], 'Cần_tây': ['Vegetables', '16', '', 0], 'Củ_hành': ['Vegetables', '40', '', 0], 'Củ_sắn': ['Vegetables', '38', '', 0], 'Dâu_tây': ['Fruits', '32', '', 0], 'Dưa_hấu': ['Fruits', '30', '', 1], 'Dưa_leo': ['Vegetables', '15', '', 0], 'Dừa': ['Fruits', '354', '', 0], 'Gừng': ['Vegetables', '80', \"['Thịt_chó', 'Thịt_cá', 'Thịt_thỏ']\", 0], 'Hẹ': ['Vegetables', '30', '', 0], 'Khóm': ['Fruits', '50', '', 0], 'Măng': ['Vegetables', '27', '', 0], 'Nho': ['Fruits', '299', '', 1], 'Rau_muốn': ['Vegetables', '19', '', 0], 'Sầu_riêng': ['Fruits', '147', '', 0], 'Thơm': ['Fruits', '50', '', 0], 'Thịt_bò': ['Meat', '254', '', 0], 'Thịt_cừu': ['Meat', '282', '', 0], 'Thịt_gà': ['Meat', '143', \"['Cua_biển', 'Tôm']\", 0], 'Thịt_gà_tây': ['Meat', '149', '', 0], 'Thịt_heo': ['Meat', '243', '', 0], 'Thịt_lợn_rừng': ['Meat', '160', '', 0], 'Thịt_vịt': ['Meat', '132', '', 0], 'Táo': ['Fruits', '52', '', 1], 'Xoài': ['Fruits', '70', '', 0], 'Xà_lách': ['Vegetables', '41', '', 0], 'Đu_Đủ': ['Fruits', '43', '', 0], 'Đậu_nành': ['Vegetables', '109', '', 0], 'Ổi': ['Fruits', '68', '', 0]}\n",
      "{}\n",
      "{}\n",
      "Fruit\n",
      "{'Süt': ['Dairy_Products', '32', '', 0], 'Atiso': ['Vegetables', '47', '', 0], 'Bí_đỏ': ['Vegetables', '559', '', 0], 'Bơ': ['Fruits', '160', '', 0], 'Bạc_hà': ['Vegetables', '70', '', 0], 'Bắp': ['Fruits', '86', '', 1], 'Bắp_cải': ['Vegetables', '25', '', 0], 'Chanh': ['Fruits', '29', '', 0], 'Cà_chua': ['Fruits', '18', '', 0], 'Cà_rốt': ['Vegetables', '41', '', 1], 'Cà_tím': ['Vegetables', '24', '', 0], 'Cần_tây': ['Vegetables', '16', '', 0], 'Củ_hành': ['Vegetables', '40', '', 0], 'Củ_sắn': ['Vegetables', '38', '', 0], 'Dâu_tây': ['Fruits', '32', '', 0], 'Dưa_hấu': ['Fruits', '30', '', 1], 'Dưa_leo': ['Vegetables', '15', '', 0], 'Dừa': ['Fruits', '354', '', 0], 'Gừng': ['Vegetables', '80', \"['Thịt_chó', 'Thịt_cá', 'Thịt_thỏ']\", 0], 'Hẹ': ['Vegetables', '30', '', 0], 'Khóm': ['Fruits', '50', '', 0], 'Măng': ['Vegetables', '27', '', 0], 'Nho': ['Fruits', '299', '', 1], 'Rau_muốn': ['Vegetables', '19', '', 0], 'Sầu_riêng': ['Fruits', '147', '', 0], 'Thơm': ['Fruits', '50', '', 0], 'Thịt_bò': ['Meat', '254', '', 0], 'Thịt_cừu': ['Meat', '282', '', 0], 'Thịt_gà': ['Meat', '143', \"['Cua_biển', 'Tôm']\", 0], 'Thịt_gà_tây': ['Meat', '149', '', 0], 'Thịt_heo': ['Meat', '243', '', 0], 'Thịt_lợn_rừng': ['Meat', '160', '', 0], 'Thịt_vịt': ['Meat', '132', '', 0], 'Táo': ['Fruits', '52', '', 1], 'Xoài': ['Fruits', '70', '', 0], 'Xà_lách': ['Vegetables', '41', '', 0], 'Đu_Đủ': ['Fruits', '43', '', 0], 'Đậu_nành': ['Vegetables', '109', '', 0], 'Ổi': ['Fruits', '68', '', 0]}\n",
      "{}\n",
      "{}\n",
      "Egg_Products\n",
      "{'Süt': ['Dairy_Products', '32', '', 0], 'Atiso': ['Vegetables', '47', '', 0], 'Bí_đỏ': ['Vegetables', '559', '', 0], 'Bơ': ['Fruits', '160', '', 0], 'Bạc_hà': ['Vegetables', '70', '', 0], 'Bắp': ['Fruits', '86', '', 1], 'Bắp_cải': ['Vegetables', '25', '', 0], 'Chanh': ['Fruits', '29', '', 0], 'Cà_chua': ['Fruits', '18', '', 0], 'Cà_rốt': ['Vegetables', '41', '', 1], 'Cà_tím': ['Vegetables', '24', '', 0], 'Cần_tây': ['Vegetables', '16', '', 0], 'Củ_hành': ['Vegetables', '40', '', 0], 'Củ_sắn': ['Vegetables', '38', '', 0], 'Dâu_tây': ['Fruits', '32', '', 0], 'Dưa_hấu': ['Fruits', '30', '', 1], 'Dưa_leo': ['Vegetables', '15', '', 0], 'Dừa': ['Fruits', '354', '', 0], 'Gừng': ['Vegetables', '80', \"['Thịt_chó', 'Thịt_cá', 'Thịt_thỏ']\", 0], 'Hẹ': ['Vegetables', '30', '', 0], 'Khóm': ['Fruits', '50', '', 0], 'Măng': ['Vegetables', '27', '', 0], 'Nho': ['Fruits', '299', '', 1], 'Rau_muốn': ['Vegetables', '19', '', 0], 'Sầu_riêng': ['Fruits', '147', '', 0], 'Thơm': ['Fruits', '50', '', 0], 'Thịt_bò': ['Meat', '254', '', 0], 'Thịt_cừu': ['Meat', '282', '', 0], 'Thịt_gà': ['Meat', '143', \"['Cua_biển', 'Tôm']\", 0], 'Thịt_gà_tây': ['Meat', '149', '', 0], 'Thịt_heo': ['Meat', '243', '', 0], 'Thịt_lợn_rừng': ['Meat', '160', '', 0], 'Thịt_vịt': ['Meat', '132', '', 0], 'Táo': ['Fruits', '52', '', 1], 'Xoài': ['Fruits', '70', '', 0], 'Xà_lách': ['Vegetables', '41', '', 0], 'Đu_Đủ': ['Fruits', '43', '', 0], 'Đậu_nành': ['Vegetables', '109', '', 0], 'Ổi': ['Fruits', '68', '', 0]}\n",
      "{}\n",
      "{}\n",
      "Fruit\n",
      "{'Süt': ['Dairy_Products', '32', '', 0], 'Atiso': ['Vegetables', '47', '', 0], 'Bí_đỏ': ['Vegetables', '559', '', 0], 'Bơ': ['Fruits', '160', '', 0], 'Bạc_hà': ['Vegetables', '70', '', 0], 'Bắp': ['Fruits', '86', '', 1], 'Bắp_cải': ['Vegetables', '25', '', 0], 'Chanh': ['Fruits', '29', '', 0], 'Cà_chua': ['Fruits', '18', '', 0], 'Cà_rốt': ['Vegetables', '41', '', 1], 'Cà_tím': ['Vegetables', '24', '', 0], 'Cần_tây': ['Vegetables', '16', '', 0], 'Củ_hành': ['Vegetables', '40', '', 0], 'Củ_sắn': ['Vegetables', '38', '', 0], 'Dâu_tây': ['Fruits', '32', '', 0], 'Dưa_hấu': ['Fruits', '30', '', 1], 'Dưa_leo': ['Vegetables', '15', '', 0], 'Dừa': ['Fruits', '354', '', 0], 'Gừng': ['Vegetables', '80', \"['Thịt_chó', 'Thịt_cá', 'Thịt_thỏ']\", 0], 'Hẹ': ['Vegetables', '30', '', 0], 'Khóm': ['Fruits', '50', '', 0], 'Măng': ['Vegetables', '27', '', 0], 'Nho': ['Fruits', '299', '', 1], 'Rau_muốn': ['Vegetables', '19', '', 0], 'Sầu_riêng': ['Fruits', '147', '', 0], 'Thơm': ['Fruits', '50', '', 0], 'Thịt_bò': ['Meat', '254', '', 0], 'Thịt_cừu': ['Meat', '282', '', 0], 'Thịt_gà': ['Meat', '143', \"['Cua_biển', 'Tôm']\", 0], 'Thịt_gà_tây': ['Meat', '149', '', 0], 'Thịt_heo': ['Meat', '243', '', 0], 'Thịt_lợn_rừng': ['Meat', '160', '', 0], 'Thịt_vịt': ['Meat', '132', '', 0], 'Táo': ['Fruits', '52', '', 1], 'Xoài': ['Fruits', '70', '', 0], 'Xà_lách': ['Vegetables', '41', '', 0], 'Đu_Đủ': ['Fruits', '43', '', 0], 'Đậu_nành': ['Vegetables', '109', '', 0], 'Ổi': ['Fruits', '68', '', 0]}\n",
      "{}\n",
      "{}\n",
      "[{'fix': [['Bơ'], 0.4, 1], 'Egg_Products': [0.3, 1], 'Fruit': [0.3, 1]}, {'fix': [['Táo'], 0.4, 1], 'Egg_Products': [0.3, 1], 'Fruit': [0.3, 1]}]\n",
      "{'Bơ': [383.04, 239.4], 'Táo': [383.04, 736.6]}\n",
      "None\n"
     ]
    }
   ],
   "source": [
    "print (FindlistLunch(known))"
   ]
  },
  {
   "cell_type": "code",
   "execution_count": 21,
   "metadata": {},
   "outputs": [
    {
     "name": "stdout",
     "output_type": "stream",
     "text": [
      "['name', 'height', 'weight', 'gender', 'age', 'PhysicalActiveLevel', 'target', 'ListIllness', 'BMIvalue', 'BMIrange', 'BMIlevel', 'BMRvalue', 'PhysicalActiveValue', 'CaloPerDay', 'CaloForEachMeal', 'ListAvoidFood', 'ListNeedFood', 'ListLimitFood', 'ListFood']\n"
     ]
    }
   ],
   "source": [
    "print ([key for key in known])"
   ]
  },
  {
   "cell_type": "code",
   "execution_count": 9,
   "metadata": {},
   "outputs": [
    {
     "name": "stdout",
     "output_type": "stream",
     "text": [
      "[2, 3]\n"
     ]
    }
   ],
   "source": [
    "calo / percent"
   ]
  },
  {
   "cell_type": "code",
   "execution_count": 63,
   "metadata": {},
   "outputs": [
    {
     "name": "stdout",
     "output_type": "stream",
     "text": [
      "('a',)\n",
      "('b',)\n",
      "('c',)\n",
      "[('a',), ('b',), ('c',)]\n"
     ]
    },
    {
     "data": {
      "text/plain": [
       "['ab', 'ac', 'bc']"
      ]
     },
     "execution_count": 63,
     "metadata": {},
     "output_type": "execute_result"
    }
   ],
   "source": [
    "tamp = list(itertools.combinations(['a','b','c'],1))\n",
    "for i in tamp:\n",
    "    print(i)\n",
    "print(list(itertools.combinations(['a','b','c'],1)))\n",
    "[''.join(x) for x in itertools.combinations(['a','b','c'],2)]"
   ]
  },
  {
   "cell_type": "code",
   "execution_count": 40,
   "metadata": {},
   "outputs": [
    {
     "name": "stdout",
     "output_type": "stream",
     "text": [
      "Bơ\n"
     ]
    }
   ],
   "source": [
    "tamp = {'fix': [['Bơ'], 0.4, 1], 'Egg_Products': [0.3, 1], 'Fruit': [0.3, 1]}\n",
    "print(tamp['fix'][0][0])"
   ]
  },
  {
   "cell_type": "code",
   "execution_count": 84,
   "metadata": {},
   "outputs": [
    {
     "name": "stdout",
     "output_type": "stream",
     "text": [
      "4\n",
      "1\n",
      "3\n"
     ]
    }
   ],
   "source": [
    "x = {'1': [1,2], 3: [3,4], 4: [10,0]}\n",
    "sorted_by_value = dict(sorted(x.items(), key=lambda kv: kv[1][1]))\n",
    "\n",
    "for count, key in enumerate(sorted_by_value):\n",
    "    if count > 3: break\n",
    "    else:\n",
    "        print(key)"
   ]
  },
  {
   "cell_type": "code",
   "execution_count": 77,
   "metadata": {},
   "outputs": [
    {
     "name": "stdout",
     "output_type": "stream",
     "text": [
      "{'Bơ': ['Fruits', '160', '', 0], 'Bắp': ['Fruits', '86', '', 1], 'Chanh': ['Fruits', '29', '', 0], 'Cà_chua': ['Fruits', '18', '', 0], 'Dâu_tây': ['Fruits', '32', '', 0], 'Dưa_hấu': ['Fruits', '30', '', 1], 'Dừa': ['Fruits', '354', '', 0], 'Khóm': ['Fruits', '50', '', 0], 'Nho': ['Fruits', '299', '', 1], 'Sầu_riêng': ['Fruits', '147', '', 0], 'Thơm': ['Fruits', '50', '', 0], 'Táo': ['Fruits', '52', '', 1], 'Xoài': ['Fruits', '70', '', 0], 'Đu_Đủ': ['Fruits', '43', '', 0], 'Ổi': ['Fruits', '68', '', 0]}\n"
     ]
    }
   ],
   "source": [
    "\n",
    "\n",
    "print (find_type(known[\"ListFood\"], \"Fruits\"))"
   ]
  },
  {
   "cell_type": "code",
   "execution_count": null,
   "metadata": {},
   "outputs": [],
   "source": []
  },
  {
   "cell_type": "code",
   "execution_count": null,
   "metadata": {},
   "outputs": [],
   "source": []
  }
 ],
 "metadata": {
  "kernelspec": {
   "display_name": "Python 3",
   "language": "python",
   "name": "python3"
  },
  "language_info": {
   "codemirror_mode": {
    "name": "ipython",
    "version": 3
   },
   "file_extension": ".py",
   "mimetype": "text/x-python",
   "name": "python",
   "nbconvert_exporter": "python",
   "pygments_lexer": "ipython3",
   "version": "3.6.5"
  }
 },
 "nbformat": 4,
 "nbformat_minor": 2
}
