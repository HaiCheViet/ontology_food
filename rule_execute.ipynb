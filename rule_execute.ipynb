{
 "cells": [
  {
   "cell_type": "code",
   "execution_count": 2,
   "metadata": {},
   "outputs": [],
   "source": [
    "import sys\n",
    "import os\n",
    "import re\n",
    "from query_rdfs import *\n",
    "\n",
    "sys.path.append(os.path.join(os.path.dirname(\"__file__\"), '..'))\n",
    "current_dir = os.path.dirname(\"__file__\")\n",
    "current_dir = current_dir if current_dir is not '' else '.'\n",
    "# directory to scan for any txt files\n",
    "data_dir_path = current_dir + '/rule'\n",
    "\n",
    "\n",
    "known = {\"height\": 170, \"weight\": 55, \"gender\": \"nam\", \n",
    "         \"age\": 17, \"PhysicalActiveLevel\": \"Hoạt động vừa\", \"target\": \"giữ cân\",\n",
    "         \"ListIllness\": \"Bệnh béo phì\"}\n",
    "data_rule = []\n",
    "function = []"
   ]
  },
  {
   "cell_type": "code",
   "execution_count": 3,
   "metadata": {},
   "outputs": [],
   "source": [
    "with open(data_dir_path + \"/rule.txt\", \"r\", encoding=\"utf8\") as f:\n",
    "    for line in f:\n",
    "        data_rule.append(line)\n",
    "with open(data_dir_path + \"/function.txt\", \"r\", encoding=\"utf8\") as f:\n",
    "    for line in f:\n",
    "        function.append(line)"
   ]
  },
  {
   "cell_type": "code",
   "execution_count": 22,
   "metadata": {},
   "outputs": [
    {
     "name": "stdout",
     "output_type": "stream",
     "text": [
      "['\\ufeffbmr,nu=447.593+(9.247*weight)+(3.098*height)-(4.33*age)\\n', '88.362+(13.397 *weight)+(4.799*height)-(5.677*age)\\n', 'bmi=weight/(height*height)\\n', 'calo=BMRvalue*PhysicalActiveValue\\n', '1.2:Quá ít hoạt động\\n', '1.375:Ít hoạt động\\n', '1.55:Hoạt động vừa\\n', '1.725:Hoạt động nhiều\\n', '1.9:Hoạt động cường độ cao']\n"
     ]
    }
   ],
   "source": [
    "print(function)"
   ]
  },
  {
   "cell_type": "markdown",
   "metadata": {},
   "source": [
    "# BMI function"
   ]
  },
  {
   "cell_type": "code",
   "execution_count": 5,
   "metadata": {},
   "outputs": [],
   "source": [
    "def BMIvalueCalc(height, weight):\n",
    "    height/=100\n",
    "    return round(eval(function[2].split(\"=\")[1]),2)\n",
    "\n",
    "def BMIrangeCalc(bmi_value):\n",
    "    return BMI_range_calc(bmi_value)\n",
    "\n",
    "def BMIlevelCalc(bmi_range):\n",
    "    return has_value(bmi_range)[\"value\"]"
   ]
  },
  {
   "cell_type": "markdown",
   "metadata": {},
   "source": [
    "# BMR function"
   ]
  },
  {
   "cell_type": "code",
   "execution_count": 6,
   "metadata": {},
   "outputs": [],
   "source": [
    "def BMRvalueOfMaleCalc(height, weight, age):\n",
    "    function[1] = function[1].split(\"=\")[1]\n",
    "    return round(eval(function[1]), 2)\n",
    "\n",
    "def BMRvalueOfFemaleCalc(height, weight, age):\n",
    "    function[1] = function[1].split(\"=\")[1]\n",
    "    return round(eval(function[1]), 2)\n",
    "\n",
    "# print (BMIvalueCalc(height,weight)) "
   ]
  },
  {
   "cell_type": "markdown",
   "metadata": {},
   "source": [
    "# PA function"
   ]
  },
  {
   "cell_type": "code",
   "execution_count": 7,
   "metadata": {},
   "outputs": [],
   "source": [
    "def PAvalueCalc(PhysicalActiveLevel):\n",
    "    for count in range(4,9):\n",
    "        result = function[count].split(\":\")\n",
    "        if result[1].endswith(\"\\n\"):\n",
    "            result[1] = result[1][:-1]\n",
    "        if  result[1] == PhysicalActiveLevel:\n",
    "            return float(result[0])"
   ]
  },
  {
   "cell_type": "markdown",
   "metadata": {},
   "source": [
    "# CaloCalc function"
   ]
  },
  {
   "cell_type": "code",
   "execution_count": 8,
   "metadata": {},
   "outputs": [],
   "source": [
    "def CaloCalc(BMRvalue, PhysicalActiveValue, target):\n",
    "    result = round(eval(function[3].split(\"=\")[1]),2)\n",
    "    if target == \"tăng cân\":\n",
    "        result +=500\n",
    "    elif target == \"giảm cân\":\n",
    "        result -=500\n",
    "    return result\n",
    "\n",
    "def CaloToKeepWeightCalc(calo_per_day):\n",
    "    # breakfast: 16%, #Lunch: 40%, # Dinner: 34%\n",
    "    return [round(calo_per_day*16/100, 2), \n",
    "            round(calo_per_day*40/100, 2), round(calo_per_day*34/100, 2)]    "
   ]
  },
  {
   "cell_type": "markdown",
   "metadata": {},
   "source": [
    "# ListFood function"
   ]
  },
  {
   "cell_type": "code",
   "execution_count": 18,
   "metadata": {},
   "outputs": [],
   "source": [
    "def FindAvoidFood(list_illness):\n",
    "    return avoided_group_food(list_illness) # return array\n",
    "\n",
    "def FindNeedFood(list_illness):\n",
    "    return needed_group_food(list_illness)\n",
    "\n",
    "def FindLimitFood(list_illness):\n",
    "    return limit_food(list_illness)\n",
    "\n",
    "def FilterFood(list_avoid_food, list_need_food, \n",
    "               list_limit_food):\n",
    "    result = {}\n",
    "    list_all_food = all_food()\n",
    "    set_avoid_food = set(list_avoid_food)\n",
    "    list_all_food = [food for food in list_all_food if food not in set_avoid_food]\n",
    "    for food_1 in list_all_food:\n",
    "        if food_1 in list_need_food:\n",
    "            result[food_1] = \"need_food\"\n",
    "        elif food_1 in list_limit_food:\n",
    "            result[food_1] = \"limit_food\"\n",
    "        else:\n",
    "            result[food_1] = None\n",
    "    return result"
   ]
  },
  {
   "cell_type": "code",
   "execution_count": 10,
   "metadata": {},
   "outputs": [],
   "source": [
    "def extract_rule_left(rule_left):\n",
    "    rule_left = re.findall(r'\\[(.*?)\\]',rule_left)\n",
    "    flag = True\n",
    "    for content in rule_left:\n",
    "        print(content)\n",
    "        content = content.split(\",\")\n",
    "        if content[0] == \"1\":\n",
    "            if content[1] not in known:\n",
    "                flag = False\n",
    "                break\n",
    "        elif content[0] == \"2\":\n",
    "            try:\n",
    "                if known[content[1]] != content[2]:\n",
    "                    flag = False\n",
    "                    break\n",
    "            except:\n",
    "                flag = False\n",
    "                break\n",
    "    return flag\n",
    "                \n",
    "def extract_rule_right(rule_right):\n",
    "    rule_right = rule_right.split(\",\", 1)\n",
    "    flag = True\n",
    "    rule_right[0] = rule_right[0][1:]\n",
    "    rule_right[1] = rule_right[1][:-2]\n",
    "    print(rule_right)\n",
    "    if rule_right[0] in known:\n",
    "        flag = False\n",
    "    else:\n",
    "        funct = rule_right[1].split(':')[1]\n",
    "        print(funct)\n",
    "        known[rule_right[0]] = eval(funct)\n",
    "    return flag\n",
    "    \n",
    "def extract_rule(rule):\n",
    "    flag = True\n",
    "    rule_left, rule_right = rule.split(\"|\")\n",
    "    flag = extract_rule_left(rule_left)\n",
    "    if flag is False:\n",
    "        return flag\n",
    "    else: \n",
    "        flag = extract_rule_right(rule_right)\n",
    "    return flag"
   ]
  },
  {
   "cell_type": "code",
   "execution_count": 11,
   "metadata": {},
   "outputs": [
    {
     "name": "stdout",
     "output_type": "stream",
     "text": [
      "1,height\n",
      "1,weight\n",
      "['BMIvalue', 'funct:BMIvalueCalc(known[\"height\"],known[\"weight\"])']\n",
      "BMIvalueCalc(known[\"height\"],known[\"weight\"])\n",
      "1,height\n",
      "1,weight\n",
      "['BMIvalue', 'funct:BMIvalueCalc(known[\"height\"],known[\"weight\"])']\n",
      "1,BMIvalue\n",
      "['BMIrange', 'funct:BMIrangeCalc(known[\"BMIvalue\"])']\n",
      "BMIrangeCalc(known[\"BMIvalue\"])\n",
      "1,height\n",
      "1,weight\n",
      "['BMIvalue', 'funct:BMIvalueCalc(known[\"height\"],known[\"weight\"])']\n",
      "1,BMIvalue\n",
      "['BMIrange', 'funct:BMIrangeCalc(known[\"BMIvalue\"])']\n",
      "1,BMIrange\n",
      "['BMIlevel', 'funct:BMIlevelCalc(known[\"BMIrange\"])']\n",
      "BMIlevelCalc(known[\"BMIrange\"])\n",
      "1,height\n",
      "1,weight\n",
      "['BMIvalue', 'funct:BMIvalueCalc(known[\"height\"],known[\"weight\"])']\n",
      "1,BMIvalue\n",
      "['BMIrange', 'funct:BMIrangeCalc(known[\"BMIvalue\"])']\n",
      "1,BMIrange\n",
      "['BMIlevel', 'funct:BMIlevelCalc(known[\"BMIrange\"])']\n",
      "2,gender,nam\n",
      "1,height\n",
      "1,weight\n",
      "1,age\n",
      "['BMRvalue', 'funct:BMRvalueOfMaleCalc(known[\"height\"], known[\"weight\"], known[\"age\"])']\n",
      "BMRvalueOfMaleCalc(known[\"height\"], known[\"weight\"], known[\"age\"])\n",
      "1,height\n",
      "1,weight\n",
      "['BMIvalue', 'funct:BMIvalueCalc(known[\"height\"],known[\"weight\"])']\n",
      "1,BMIvalue\n",
      "['BMIrange', 'funct:BMIrangeCalc(known[\"BMIvalue\"])']\n",
      "1,BMIrange\n",
      "['BMIlevel', 'funct:BMIlevelCalc(known[\"BMIrange\"])']\n",
      "2,gender,nam\n",
      "1,height\n",
      "1,weight\n",
      "1,age\n",
      "['BMRvalue', 'funct:BMRvalueOfMaleCalc(known[\"height\"], known[\"weight\"], known[\"age\"])']\n",
      "2,gender,nữ\n",
      "1,PhysicalActiveLevel\n",
      "['PhysicalActiveValue', 'funct:PAvalueCalc(known[\"PhysicalActiveLevel\"])']\n",
      "PAvalueCalc(known[\"PhysicalActiveLevel\"])\n",
      "1,height\n",
      "1,weight\n",
      "['BMIvalue', 'funct:BMIvalueCalc(known[\"height\"],known[\"weight\"])']\n",
      "1,BMIvalue\n",
      "['BMIrange', 'funct:BMIrangeCalc(known[\"BMIvalue\"])']\n",
      "1,BMIrange\n",
      "['BMIlevel', 'funct:BMIlevelCalc(known[\"BMIrange\"])']\n",
      "2,gender,nam\n",
      "1,height\n",
      "1,weight\n",
      "1,age\n",
      "['BMRvalue', 'funct:BMRvalueOfMaleCalc(known[\"height\"], known[\"weight\"], known[\"age\"])']\n",
      "2,gender,nữ\n",
      "1,PhysicalActiveLevel\n",
      "['PhysicalActiveValue', 'funct:PAvalueCalc(known[\"PhysicalActiveLevel\"])']\n",
      "1,BMRvalue\n",
      "1,PhysicalActiveValue\n",
      "1,target\n",
      "['CaloPerDay', 'funct:CaloCalc(known[\"BMRvalue\"], known[\"PhysicalActiveValue\"], known[\"target\"])']\n",
      "CaloCalc(known[\"BMRvalue\"], known[\"PhysicalActiveValue\"], known[\"target\"])\n",
      "1,height\n",
      "1,weight\n",
      "['BMIvalue', 'funct:BMIvalueCalc(known[\"height\"],known[\"weight\"])']\n",
      "1,BMIvalue\n",
      "['BMIrange', 'funct:BMIrangeCalc(known[\"BMIvalue\"])']\n",
      "1,BMIrange\n",
      "['BMIlevel', 'funct:BMIlevelCalc(known[\"BMIrange\"])']\n",
      "2,gender,nam\n",
      "1,height\n",
      "1,weight\n",
      "1,age\n",
      "['BMRvalue', 'funct:BMRvalueOfMaleCalc(known[\"height\"], known[\"weight\"], known[\"age\"])']\n",
      "2,gender,nữ\n",
      "1,PhysicalActiveLevel\n",
      "['PhysicalActiveValue', 'funct:PAvalueCalc(known[\"PhysicalActiveLevel\"])']\n",
      "1,BMRvalue\n",
      "1,PhysicalActiveValue\n",
      "1,target\n",
      "['CaloPerDay', 'funct:CaloCalc(known[\"BMRvalue\"], known[\"PhysicalActiveValue\"], known[\"target\"])']\n",
      "2,target,giữ cân\n",
      "1,CaloPerDay\n",
      "['CaloForEachMeal', 'funct:CaloToKeepWeightCalc(known[\"CaloPerDay\"])']\n",
      "CaloToKeepWeightCalc(known[\"CaloPerDay\"])\n",
      "1,height\n",
      "1,weight\n",
      "['BMIvalue', 'funct:BMIvalueCalc(known[\"height\"],known[\"weight\"])']\n",
      "1,BMIvalue\n",
      "['BMIrange', 'funct:BMIrangeCalc(known[\"BMIvalue\"])']\n",
      "1,BMIrange\n",
      "['BMIlevel', 'funct:BMIlevelCalc(known[\"BMIrange\"])']\n",
      "2,gender,nam\n",
      "1,height\n",
      "1,weight\n",
      "1,age\n",
      "['BMRvalue', 'funct:BMRvalueOfMaleCalc(known[\"height\"], known[\"weight\"], known[\"age\"])']\n",
      "2,gender,nữ\n",
      "1,PhysicalActiveLevel\n",
      "['PhysicalActiveValue', 'funct:PAvalueCalc(known[\"PhysicalActiveLevel\"])']\n",
      "1,BMRvalue\n",
      "1,PhysicalActiveValue\n",
      "1,target\n",
      "['CaloPerDay', 'funct:CaloCalc(known[\"BMRvalue\"], known[\"PhysicalActiveValue\"], known[\"target\"])']\n",
      "2,target,giữ cân\n",
      "1,CaloPerDay\n",
      "['CaloForEachMeal', 'funct:CaloToKeepWeightCalc(known[\"CaloPerDay\"])']\n",
      "2,target,tăng cân\n",
      "2,target,giảm cân\n",
      "1,ListIllness\n",
      "['ListAvoidFood', 'funct:FindAvoidFood(known[\"ListIllness\"])']\n",
      "FindAvoidFood(known[\"ListIllness\"])\n",
      "Bệnh_béo_phì\n",
      "1,height\n",
      "1,weight\n",
      "['BMIvalue', 'funct:BMIvalueCalc(known[\"height\"],known[\"weight\"])']\n",
      "1,BMIvalue\n",
      "['BMIrange', 'funct:BMIrangeCalc(known[\"BMIvalue\"])']\n",
      "1,BMIrange\n",
      "['BMIlevel', 'funct:BMIlevelCalc(known[\"BMIrange\"])']\n",
      "2,gender,nam\n",
      "1,height\n",
      "1,weight\n",
      "1,age\n",
      "['BMRvalue', 'funct:BMRvalueOfMaleCalc(known[\"height\"], known[\"weight\"], known[\"age\"])']\n",
      "2,gender,nữ\n",
      "1,PhysicalActiveLevel\n",
      "['PhysicalActiveValue', 'funct:PAvalueCalc(known[\"PhysicalActiveLevel\"])']\n",
      "1,BMRvalue\n",
      "1,PhysicalActiveValue\n",
      "1,target\n",
      "['CaloPerDay', 'funct:CaloCalc(known[\"BMRvalue\"], known[\"PhysicalActiveValue\"], known[\"target\"])']\n",
      "2,target,giữ cân\n",
      "1,CaloPerDay\n",
      "['CaloForEachMeal', 'funct:CaloToKeepWeightCalc(known[\"CaloPerDay\"])']\n",
      "2,target,tăng cân\n",
      "2,target,giảm cân\n",
      "1,ListIllness\n",
      "['ListAvoidFood', 'funct:FindAvoidFood(known[\"ListIllness\"])']\n",
      "1,ListIllness\n",
      "['ListNeedFood', 'funct:FindNeedFood(known[\"ListIllness\"])']\n",
      "FindNeedFood(known[\"ListIllness\"])\n",
      "Bệnh_béo_phì\n",
      "1,height\n",
      "1,weight\n",
      "['BMIvalue', 'funct:BMIvalueCalc(known[\"height\"],known[\"weight\"])']\n",
      "1,BMIvalue\n",
      "['BMIrange', 'funct:BMIrangeCalc(known[\"BMIvalue\"])']\n",
      "1,BMIrange\n",
      "['BMIlevel', 'funct:BMIlevelCalc(known[\"BMIrange\"])']\n",
      "2,gender,nam\n",
      "1,height\n",
      "1,weight\n",
      "1,age\n",
      "['BMRvalue', 'funct:BMRvalueOfMaleCalc(known[\"height\"], known[\"weight\"], known[\"age\"])']\n",
      "2,gender,nữ\n",
      "1,PhysicalActiveLevel\n",
      "['PhysicalActiveValue', 'funct:PAvalueCalc(known[\"PhysicalActiveLevel\"])']\n",
      "1,BMRvalue\n",
      "1,PhysicalActiveValue\n",
      "1,target\n",
      "['CaloPerDay', 'funct:CaloCalc(known[\"BMRvalue\"], known[\"PhysicalActiveValue\"], known[\"target\"])']\n",
      "2,target,giữ cân\n",
      "1,CaloPerDay\n",
      "['CaloForEachMeal', 'funct:CaloToKeepWeightCalc(known[\"CaloPerDay\"])']\n",
      "2,target,tăng cân\n",
      "2,target,giảm cân\n",
      "1,ListIllness\n",
      "['ListAvoidFood', 'funct:FindAvoidFood(known[\"ListIllness\"])']\n",
      "1,ListIllness\n",
      "['ListNeedFood', 'funct:FindNeedFood(known[\"ListIllness\"])']\n",
      "1,ListIllness\n",
      "['ListLimitFood', 'funct:FindLimitFood(known[\"ListIllness\"])']\n",
      "FindLimitFood(known[\"ListIllness\"])\n",
      "Bệnh_béo_phì\n",
      "1,height\n",
      "1,weight\n",
      "['BMIvalue', 'funct:BMIvalueCalc(known[\"height\"],known[\"weight\"])']\n",
      "1,BMIvalue\n",
      "['BMIrange', 'funct:BMIrangeCalc(known[\"BMIvalue\"])']\n",
      "1,BMIrange\n",
      "['BMIlevel', 'funct:BMIlevelCalc(known[\"BMIrange\"])']\n",
      "2,gender,nam\n",
      "1,height\n",
      "1,weight\n",
      "1,age\n",
      "['BMRvalue', 'funct:BMRvalueOfMaleCalc(known[\"height\"], known[\"weight\"], known[\"age\"])']\n",
      "2,gender,nữ\n",
      "1,PhysicalActiveLevel\n",
      "['PhysicalActiveValue', 'funct:PAvalueCalc(known[\"PhysicalActiveLevel\"])']\n",
      "1,BMRvalue\n",
      "1,PhysicalActiveValue\n",
      "1,target\n",
      "['CaloPerDay', 'funct:CaloCalc(known[\"BMRvalue\"], known[\"PhysicalActiveValue\"], known[\"target\"])']\n",
      "2,target,giữ cân\n",
      "1,CaloPerDay\n",
      "['CaloForEachMeal', 'funct:CaloToKeepWeightCalc(known[\"CaloPerDay\"])']\n",
      "2,target,tăng cân\n",
      "2,target,giảm cân\n",
      "1,ListIllness\n",
      "['ListAvoidFood', 'funct:FindAvoidFood(known[\"ListIllness\"])']\n",
      "1,ListIllness\n",
      "['ListNeedFood', 'funct:FindNeedFood(known[\"ListIllness\"])']\n",
      "1,ListIllness\n",
      "['ListLimitFood', 'funct:FindLimitFood(known[\"ListIllness\"])']\n"
     ]
    }
   ],
   "source": [
    "count = 0\n",
    "while count <= 12:\n",
    "    if extract_rule(data_rule[count]) == True:\n",
    "        count = 0\n",
    "    else: count+=1        "
   ]
  },
  {
   "cell_type": "code",
   "execution_count": 19,
   "metadata": {},
   "outputs": [
    {
     "name": "stdout",
     "output_type": "stream",
     "text": [
      "1,ListAvoidFood\n",
      "1,ListNeedFood\n",
      "1,ListLimitFood\n",
      "['ListFood', 'funct:FilterFood(known[\"ListAvoidFood\"], known[\"ListNeedFood\"], known[\"ListLimitFood\"])']\n",
      "FilterFood(known[\"ListAvoidFood\"], known[\"ListNeedFood\"], known[\"ListLimitFood\"])\n",
      "True\n"
     ]
    }
   ],
   "source": [
    "print(extract_rule(data_rule[13]))"
   ]
  },
  {
   "cell_type": "code",
   "execution_count": 20,
   "metadata": {},
   "outputs": [
    {
     "name": "stdout",
     "output_type": "stream",
     "text": [
      "{'height': 170, 'weight': 55, 'gender': 'nam', 'age': 17, 'PhysicalActiveLevel': 'Hoạt động vừa', 'target': 'giữ cân', 'ListIllness': 'Bệnh béo phì', 'BMIvalue': 19.03, 'BMIrange': '18.50-24.99', 'BMIlevel': 'Bình_thường', 'BMRvalue': 1544.52, 'PhysicalActiveValue': 1.55, 'CaloPerDay': 2394.01, 'CaloForEachMeal': [383.04, 957.6, 813.96], 'ListAvoidFood': ['Butter', 'Peanut', 'Khoai_tây'], 'ListNeedFood': ['Bắp', 'Cà_rốt', 'Mực', 'Nho', 'Dưa_hấu', 'Táo'], 'ListLimitFood': ['Butter'], 'ListFood': {'Albumen': None, 'Almond': None, 'Butter_Fat': None, 'Butter_Milk': None, 'Cheese_Powder': None, 'Coconut': None, 'Cream': None, 'Cream_Powder': None, 'Egg': None, 'Egg_White_Powder': None, 'Egg_Yolk': None, 'Lactose': None, 'Milk': None, 'Milk_Fat': None, 'Nut': None, 'Walnut': None, 'Whey': None, 'Atiso': None, 'Bí_đỏ': None, 'Bơ': None, 'Bạc_hà': None, 'Bắp': 'need_food', 'Bắp_cải': None, 'Chanh': None, 'Chuối': None, 'Cua_biển': None, 'Cà_chua': None, 'Cà_rốt': 'need_food', 'Cà_tím': None, 'Cá_hồi': None, 'Cá_ngừ': None, 'Cá_đuối': None, 'Cần_tây': None, 'Củ_hành': None, 'Củ_sắn': None, 'Dâu_tây': None, 'Dưa_hấu': 'need_food', 'Dưa_leo': None, 'Dừa': None, 'Gừng': None, 'Hàu': None, 'Hẹ': None, 'Khóm': None, 'Măng': None, 'Mực': 'need_food', 'Nho': 'need_food', 'Rau_muốn': None, 'Sò': None, 'Sầu_riêng': None, 'Thơm': None, 'Thịt_bò': None, 'Thịt_chó': None, 'Thịt_cá': None, 'Thịt_cừu': None, 'Thịt_gà': None, 'Thịt_gà_tây': None, 'Thịt_heo': None, 'Thịt_hươu': None, 'Thịt_lợn_rừng': None, 'Thịt_thỏ': None, 'Thịt_vịt': None, 'Trứng_gà': None, 'Trứng_vịt': None, 'Táo': 'need_food', 'Tôm': None, 'Xoài': None, 'Xà_lách': None, 'Đu_Đủ': None, 'Đậu_nành': None, 'Ốc': None, 'Ổi': None, 'C?n_tây': None, 'Tr?ng_gà': None, 'S?u_riêng': None, 'Th?t_h??u': None, '??u_nành': None, 'D?a_leo': None, 'Cá_?u?i': None, 'Th?t_l?n_r?ng': None, 'G?ng': None, 'Th?t_chó': None, 'B?': None, 'C?_s?n': None, 'M?c': None, 'Th?t_c?u': None, 'Bí_??': None, 'Cá_ng?': None, 'Rau_mu?n': None, 'Th?t_gà': None, 'B?p_c?i': None, 'D?a_h?u': None, '?c': None, 'Cá_h?i': None, 'B?p': None, 'M?ng': None, 'H?': None, 'Chu?i': None, 'Th?m': None, 'Th?t_gà_tây': None, 'B?c_hà': None, 'Th?t_ḅ': None, 'C?_hành': None, 'Cà_r?t': None, 'D?a': None, 'Cua_bi?n': None, '?i': None, 'Th?t_heo': None, 'Th?t_v?t': None, 'Th?t_cá': None, 'Ṣ': None, 'Tr?ng_v?t': None, '?u_??': None, 'Th?t_th?': None}}\n"
     ]
    }
   ],
   "source": [
    "print(known)"
   ]
  },
  {
   "cell_type": "code",
   "execution_count": 2,
   "metadata": {},
   "outputs": [
    {
     "name": "stdout",
     "output_type": "stream",
     "text": [
      "ss\n"
     ]
    }
   ],
   "source": [
    "a = \"sss\"\n",
    "print(a[:-1])"
   ]
  },
  {
   "cell_type": "code",
   "execution_count": null,
   "metadata": {},
   "outputs": [],
   "source": []
  }
 ],
 "metadata": {
  "kernelspec": {
   "display_name": "Python 3",
   "language": "python",
   "name": "python3"
  },
  "language_info": {
   "codemirror_mode": {
    "name": "ipython",
    "version": 3
   },
   "file_extension": ".py",
   "mimetype": "text/x-python",
   "name": "python",
   "nbconvert_exporter": "python",
   "pygments_lexer": "ipython3",
   "version": "3.6.5"
  }
 },
 "nbformat": 4,
 "nbformat_minor": 2
}
