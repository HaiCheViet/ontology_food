{
 "cells": [
  {
   "cell_type": "code",
   "execution_count": 1,
   "metadata": {},
   "outputs": [],
   "source": [
    "import sys\n",
    "import os\n",
    "import re\n",
    "from query_rdfs import *\n",
    "\n",
    "sys.path.append(os.path.join(os.path.dirname(\"__file__\"), '..'))\n",
    "current_dir = os.path.dirname(\"__file__\")\n",
    "current_dir = current_dir if current_dir is not '' else '.'\n",
    "# directory to scan for any txt files\n",
    "data_dir_path = current_dir + '/rule'\n",
    "\n",
    "\n",
    "known = {\"height\": 170, \"weight\": 55, \"gender\": \"nam\", \n",
    "         \"age\": 17, \"PhysicalActiveLevel\": \"Hoạt động vừa\", \"target\": \"giữ cân\"}\n",
    "data_rule = []\n",
    "function = []"
   ]
  },
  {
   "cell_type": "code",
   "execution_count": 2,
   "metadata": {},
   "outputs": [],
   "source": [
    "with open(data_dir_path + \"/rule.txt\", \"r\", encoding=\"utf8\") as f:\n",
    "    for line in f:\n",
    "        data_rule.append(line)\n",
    "with open(data_dir_path + \"/function.txt\", \"r\", encoding=\"utf8\") as f:\n",
    "    for line in f:\n",
    "        function.append(line)"
   ]
  },
  {
   "cell_type": "code",
   "execution_count": 3,
   "metadata": {},
   "outputs": [
    {
     "name": "stdout",
     "output_type": "stream",
     "text": [
      "['\\ufeffbmr,nu=655+(9.6*weight)+(1.8*height)-(4.7*age)\\n', 'bmr,nam=66+(13.75 *weight)+(5*height)-(6.8*age)\\n', 'bmi=weight/(height*height)\\n', 'calo=BMRvalue*PhysicalActiveValue\\n', '1.2:Quá ít hoạt động\\n', '1.375:Ít hoạt động\\n', '1.55:Hoạt động vừa\\n', '1.725:Hoạt động nhiều\\n', '1.9:Hoạt động cường độ cao']\n"
     ]
    }
   ],
   "source": [
    "print(function)"
   ]
  },
  {
   "cell_type": "markdown",
   "metadata": {},
   "source": [
    "# BMI function"
   ]
  },
  {
   "cell_type": "code",
   "execution_count": 4,
   "metadata": {},
   "outputs": [],
   "source": [
    "def BMIvalueCalc(height, weight):\n",
    "    height/=100\n",
    "    return round(eval(function[2].split(\"=\")[1]),2)\n",
    "\n",
    "def BMIrangeCalc(bmi_value):\n",
    "    return BMI_range_calc(bmi_value)\n",
    "\n",
    "def BMIlevelCalc(bmi_range):\n",
    "    return has_value(bmi_range)[\"value\"]"
   ]
  },
  {
   "cell_type": "markdown",
   "metadata": {},
   "source": [
    "# BMR function"
   ]
  },
  {
   "cell_type": "code",
   "execution_count": 14,
   "metadata": {},
   "outputs": [],
   "source": [
    "def BMRvalueOfMaleCalc(height, weight, age):\n",
    "    function[1] = function[1].split(\"=\")[1]\n",
    "    return round(eval(function[1]), 2)\n",
    "\n",
    "def BMRvalueOfFemaleCalc(height, weight, age):\n",
    "    function[1] = function[1].split(\"=\")[1]\n",
    "    return round(eval(function[1]), 2)\n",
    "\n",
    "# print (BMIvalueCalc(height,weight)) "
   ]
  },
  {
   "cell_type": "code",
   "execution_count": 9,
   "metadata": {},
   "outputs": [],
   "source": [
    "def PAvalueCalc(PhysicalActiveLevel):\n",
    "    for count in range(4,9):\n",
    "        result = function[count].split(\":\")\n",
    "        if result[1].endswith(\"\\n\"):\n",
    "            result[1] = result[1][:-1]\n",
    "        if  result[1] == PhysicalActiveLevel:\n",
    "            return float(result[0])"
   ]
  },
  {
   "cell_type": "code",
   "execution_count": null,
   "metadata": {},
   "outputs": [],
   "source": [
    "def CaloCalc(BMRvalue, PhysicalActiveValue, target):\n",
    "    result = round(eval(function[3].split(\"=\")[1]),2)\n",
    "    if target == \"tăng cân\":\n",
    "        result +=500\n",
    "    elif target == \"giảm cân\":\n",
    "        result -=500\n",
    "    return result"
   ]
  },
  {
   "cell_type": "code",
   "execution_count": 7,
   "metadata": {},
   "outputs": [],
   "source": [
    "def extract_rule_left(rule_left):\n",
    "    rule_left = re.findall(r'\\[(.*?)\\]',rule_left)\n",
    "    flag = True\n",
    "    for content in rule_left:\n",
    "        print(content)\n",
    "        content = content.split(\",\")\n",
    "        if content[0] == \"1\":\n",
    "            if content[1] not in known:\n",
    "                flag = False\n",
    "                break\n",
    "        elif content[0] == \"2\":\n",
    "            try:\n",
    "                if known[content[1]] != content[2]:\n",
    "                    flag = False\n",
    "                    break\n",
    "            except:\n",
    "                flag = False\n",
    "                break\n",
    "    return flag\n",
    "                \n",
    "def extract_rule_right(rule_right):\n",
    "    rule_right = rule_right.split(\",\", 1)\n",
    "    flag = True\n",
    "    rule_right[0] = rule_right[0][1:]\n",
    "    rule_right[1] = rule_right[1][:-2]\n",
    "    print(rule_right)\n",
    "    if rule_right[0] in known:\n",
    "        flag = False\n",
    "    else:\n",
    "        funct = rule_right[1].split(':')[1]\n",
    "        print(funct)\n",
    "        known[rule_right[0]] = eval(funct)\n",
    "    return flag\n",
    "    \n",
    "def extract_rule(rule):\n",
    "    flag = True\n",
    "    rule_left, rule_right = rule.split(\"|\")\n",
    "    flag = extract_rule_left(rule_left)\n",
    "    if flag is False:\n",
    "        return flag\n",
    "    else: \n",
    "        flag = extract_rule_right(rule_right)\n",
    "    return flag"
   ]
  },
  {
   "cell_type": "code",
   "execution_count": 10,
   "metadata": {},
   "outputs": [
    {
     "name": "stdout",
     "output_type": "stream",
     "text": [
      "1,height\n",
      "1,weight\n",
      "['BMIvalue', 'funct:BMIvalueCalc(known[\"height\"],known[\"weight\"])']\n",
      "False\n",
      "1,BMIvalue\n",
      "['BMIrange', 'funct:BMIrangeCalc(known[\"BMIvalue\"])']\n",
      "False\n",
      "1,BMIrange\n",
      "['BMIlevel', 'funct:BMIlevelCalc(known[\"BMIrange\"])']\n",
      "False\n",
      "2,gender,nam\n",
      "1,height\n",
      "1,weight\n",
      "1,age\n",
      "['BMRvalue', 'funct:BMRvalueOfMaleCalc(known[\"height\"], known[\"weight\"], known[\"age\"])']\n",
      "False\n",
      "2,gender,nữ\n",
      "False\n",
      "1,PhysicalActiveLevel\n",
      "['PhysicalActiveValue', 'funct:PAvalueCalc(known[\"PhysicalActiveLevel\"])']\n",
      "PAvalueCalc(known[\"PhysicalActiveLevel\"])\n",
      "True\n"
     ]
    }
   ],
   "source": [
    "for count in range(0,7):\n",
    "    print(extract_rule(data_rule[count]))"
   ]
  },
  {
   "cell_type": "code",
   "execution_count": 15,
   "metadata": {},
   "outputs": [
    {
     "name": "stdout",
     "output_type": "stream",
     "text": [
      "1,BMRvalue\n",
      "1,PhysicalActiveValue\n",
      "1,target\n",
      "['CaloPerDay', 'funct:CaloCalc(known[\"BMRvalue\"], known[\"PhysicalActiveValue\"], known[\"target\"])']\n",
      "CaloCalc(known[\"BMRvalue\"], known[\"PhysicalActiveValue\"], known[\"target\"])\n",
      "BMRvalue*PhysicalActiveValue\n",
      "\n",
      "<class 'float'> <class 'float'>\n",
      "True\n"
     ]
    }
   ],
   "source": [
    "print(extract_rule(data_rule[6]))"
   ]
  },
  {
   "cell_type": "code",
   "execution_count": 16,
   "metadata": {},
   "outputs": [
    {
     "name": "stdout",
     "output_type": "stream",
     "text": [
      "{'height': 170, 'weight': 55, 'gender': 'nam', 'age': 17, 'PhysicalActiveLevel': 'Hoạt động vừa', 'target': 'giữ cân', 'BMIvalue': 19.03, 'BMIrange': '18.50-24.99', 'BMIlevel': 'Bình_thường', 'BMRvalue': 1556.65, 'PhysicalActiveValue': 1.55, 'CaloPerDay': 2412.81}\n"
     ]
    }
   ],
   "source": [
    "print(known)"
   ]
  },
  {
   "cell_type": "code",
   "execution_count": null,
   "metadata": {},
   "outputs": [],
   "source": []
  }
 ],
 "metadata": {
  "kernelspec": {
   "display_name": "Python 3",
   "language": "python",
   "name": "python3"
  },
  "language_info": {
   "codemirror_mode": {
    "name": "ipython",
    "version": 3
   },
   "file_extension": ".py",
   "mimetype": "text/x-python",
   "name": "python",
   "nbconvert_exporter": "python",
   "pygments_lexer": "ipython3",
   "version": "3.6.5"
  }
 },
 "nbformat": 4,
 "nbformat_minor": 2
}
