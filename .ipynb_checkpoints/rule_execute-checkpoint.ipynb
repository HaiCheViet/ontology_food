{
 "cells": [
  {
   "cell_type": "code",
   "execution_count": 2,
   "metadata": {},
   "outputs": [],
   "source": [
    "import sys\n",
    "import os\n",
    "import re\n",
    "from query_rdfs import *\n",
    "\n",
    "sys.path.append(os.path.join(os.path.dirname(\"__file__\"), '..'))\n",
    "current_dir = os.path.dirname(\"__file__\")\n",
    "current_dir = current_dir if current_dir is not '' else '.'\n",
    "# directory to scan for any txt files\n",
    "data_dir_path = current_dir + '/rule'\n",
    "\n",
    "\n",
    "known = {\"height\": 170, \"weight\": 55, \"gender\": \"nam\", \n",
    "         \"age\": 17, \"PhysicalActiveLevel\": \"Hoạt động vừa\", \"target\": \"giữ cân\",\n",
    "         \"ListIllness\": \"Bệnh béo phì\"}\n",
    "data_rule = []\n",
    "function = []"
   ]
  },
  {
   "cell_type": "code",
   "execution_count": 3,
   "metadata": {},
   "outputs": [],
   "source": [
    "with open(data_dir_path + \"/rule.txt\", \"r\", encoding=\"utf8\") as f:\n",
    "    for line in f:\n",
    "        data_rule.append(line)\n",
    "with open(data_dir_path + \"/function.txt\", \"r\", encoding=\"utf8\") as f:\n",
    "    for line in f:\n",
    "        function.append(line)"
   ]
  },
  {
   "cell_type": "code",
   "execution_count": 4,
   "metadata": {},
   "outputs": [
    {
     "name": "stdout",
     "output_type": "stream",
     "text": [
      "['Albumen', 'Almond', 'Butter', 'Butter_Fat', 'Butter_Milk', 'Cheese_Powder', 'Coconut', 'Cream', 'Cream_Powder', 'Egg', 'Egg_White_Powder', 'Egg_Yolk', 'Lactose', 'Milk', 'Milk_Fat', 'Nut', 'Peanut', 'Walnut', 'Whey', 'Atiso', 'Bí_đỏ', 'Bơ', 'Bạc_hà', 'Bắp', 'Bắp_cải', 'Chanh', 'Chuối', 'Cua_biển', 'Cà_chua', 'Cà_rốt', 'Cà_tím', 'Cá_hồi', 'Cá_ngừ', 'Cá_đuối', 'Cần_tây', 'Củ_hành', 'Củ_sắn', 'Dâu_tây', 'Dưa_hấu', 'Dưa_leo', 'Dừa', 'Gừng', 'Hàu', 'Hẹ', 'Khóm', 'Măng', 'Mực', 'Nho', 'Rau_muốn', 'Sò', 'Sầu_riêng', 'Thơm', 'Thịt_bò', 'Thịt_chó', 'Thịt_cá', 'Thịt_cừu', 'Thịt_gà', 'Thịt_gà_tây', 'Thịt_heo', 'Thịt_hươu', 'Thịt_lợn_rừng', 'Thịt_thỏ', 'Thịt_vịt', 'Trứng_gà', 'Trứng_vịt', 'Táo', 'Tôm', 'Xoài', 'Xà_lách', 'Đu_Đủ', 'Đậu_nành', 'Ốc', 'Ổi', 'C?n_tây', 'Tr?ng_gà', 'S?u_riêng', 'Th?t_h??u', '??u_nành', 'D?a_leo', 'Cá_?u?i', 'Th?t_l?n_r?ng', 'G?ng', 'Th?t_chó', 'B?', 'C?_s?n', 'M?c', 'Th?t_c?u', 'Bí_??', 'Cá_ng?', 'Rau_mu?n', 'Th?t_gà', 'B?p_c?i', 'D?a_h?u', '?c', 'Cá_h?i', 'B?p', 'M?ng', 'H?', 'Chu?i', 'Th?m', 'Th?t_gà_tây', 'B?c_hà', 'Th?t_ḅ', 'C?_hành', 'Cà_r?t', 'D?a', 'Cua_bi?n', '?i', 'Th?t_heo', 'Th?t_v?t', 'Th?t_cá', 'Ṣ', 'Tr?ng_v?t', '?u_??', 'Th?t_th?']\n"
     ]
    }
   ],
   "source": [
    "print(all_food())"
   ]
  },
  {
   "cell_type": "markdown",
   "metadata": {},
   "source": [
    "# BMI function"
   ]
  },
  {
   "cell_type": "code",
   "execution_count": 5,
   "metadata": {},
   "outputs": [],
   "source": [
    "def BMIvalueCalc(height, weight):\n",
    "    height/=100\n",
    "    return round(eval(function[2].split(\"=\")[1]),2)\n",
    "\n",
    "def BMIrangeCalc(bmi_value):\n",
    "    return BMI_range_calc(bmi_value)\n",
    "\n",
    "def BMIlevelCalc(bmi_range):\n",
    "    return has_value(bmi_range)[\"value\"]"
   ]
  },
  {
   "cell_type": "markdown",
   "metadata": {},
   "source": [
    "# BMR function"
   ]
  },
  {
   "cell_type": "code",
   "execution_count": 6,
   "metadata": {},
   "outputs": [],
   "source": [
    "def BMRvalueOfMaleCalc(height, weight, age):\n",
    "    function[1] = function[1].split(\"=\")[1]\n",
    "    return round(eval(function[1]), 2)\n",
    "\n",
    "def BMRvalueOfFemaleCalc(height, weight, age):\n",
    "    function[1] = function[1].split(\"=\")[1]\n",
    "    return round(eval(function[1]), 2)\n",
    "\n",
    "# print (BMIvalueCalc(height,weight)) "
   ]
  },
  {
   "cell_type": "markdown",
   "metadata": {},
   "source": [
    "# PA function"
   ]
  },
  {
   "cell_type": "code",
   "execution_count": 7,
   "metadata": {},
   "outputs": [],
   "source": [
    "def PAvalueCalc(PhysicalActiveLevel):\n",
    "    for count in range(4,9):\n",
    "        result = function[count].split(\":\")\n",
    "        if result[1].endswith(\"\\n\"):\n",
    "            result[1] = result[1][:-1]\n",
    "        if  result[1] == PhysicalActiveLevel:\n",
    "            return float(result[0])"
   ]
  },
  {
   "cell_type": "markdown",
   "metadata": {},
   "source": [
    "# CaloCalc function"
   ]
  },
  {
   "cell_type": "code",
   "execution_count": 8,
   "metadata": {},
   "outputs": [],
   "source": [
    "def CaloCalc(BMRvalue, PhysicalActiveValue, target):\n",
    "    result = round(eval(function[3].split(\"=\")[1]),2)\n",
    "    if target == \"tăng cân\":\n",
    "        result +=500\n",
    "    elif target == \"giảm cân\":\n",
    "        result -=500\n",
    "    return result\n",
    "\n",
    "def CaloToKeepWeightCalc(calo_per_day):\n",
    "    # breakfast: 16%, #Lunch: 40%, # Dinner: 34%\n",
    "    return [round(calo_per_day*16/100, 2), \n",
    "            round(calo_per_day*40/100, 2), round(calo_per_day*34/100, 2)]    "
   ]
  },
  {
   "cell_type": "markdown",
   "metadata": {},
   "source": [
    "# ListFood function"
   ]
  },
  {
   "cell_type": "code",
   "execution_count": 16,
   "metadata": {},
   "outputs": [],
   "source": [
    "def FindAvoidFood(list_illness):\n",
    "    return avoided_group_food(list_illness) # return array\n",
    "\n",
    "def FindNeedFood(list_illness):\n",
    "    return needed_group_food(list_illness)\n",
    "\n",
    "def FindLimitFood(list_illness):\n",
    "    return limit_food(list_illness)\n",
    "\n",
    "def FilterFood(list_avoid_food, list_need_food, \n",
    "               list_limit_food):\n",
    "    result = {}\n",
    "    list_all_food = all_food()\n",
    "    set_avoid_food = set(list_avoid_food)\n",
    "    list_all_food = [food for food in list_all_food if food not in set_avoid_food]\n",
    "    for food_1 in list_all_food:\n",
    "        if food_1 in list_need_food:\n",
    "            result[food_1] = \"need_food\"\n",
    "        elif food_1 in list_limit_food:\n",
    "            result[food_1] = \"limit_food\"\n",
    "        else:\n",
    "            result[food_1] = None\n",
    "    return result"
   ]
  },
  {
   "cell_type": "code",
   "execution_count": 10,
   "metadata": {},
   "outputs": [],
   "source": [
    "def extract_rule_left(rule_left):\n",
    "    rule_left = re.findall(r'\\[(.*?)\\]',rule_left)\n",
    "    flag = True\n",
    "    for content in rule_left:\n",
    "        print(content)\n",
    "        content = content.split(\",\")\n",
    "        if content[0] == \"1\":\n",
    "            if content[1] not in known:\n",
    "                flag = False\n",
    "                break\n",
    "        elif content[0] == \"2\":\n",
    "            try:\n",
    "                if known[content[1]] != content[2]:\n",
    "                    flag = False\n",
    "                    break\n",
    "            except:\n",
    "                flag = False\n",
    "                break\n",
    "    return flag\n",
    "                \n",
    "def extract_rule_right(rule_right):\n",
    "    rule_right = rule_right.split(\",\", 1)\n",
    "    flag = True\n",
    "    rule_right[0] = rule_right[0][1:]\n",
    "    rule_right[1] = rule_right[1][:-2]\n",
    "    print(rule_right)\n",
    "    if rule_right[0] in known:\n",
    "        flag = False\n",
    "    else:\n",
    "        funct = rule_right[1].split(':')[1]\n",
    "        print(funct)\n",
    "        known[rule_right[0]] = eval(funct)\n",
    "    return flag\n",
    "    \n",
    "def extract_rule(rule):\n",
    "    flag = True\n",
    "    rule_left, rule_right = rule.split(\"|\")\n",
    "    flag = extract_rule_left(rule_left)\n",
    "    if flag is False:\n",
    "        return flag\n",
    "    else: \n",
    "        flag = extract_rule_right(rule_right)\n",
    "    return flag"
   ]
  },
  {
   "cell_type": "code",
   "execution_count": 11,
   "metadata": {},
   "outputs": [
    {
     "name": "stdout",
     "output_type": "stream",
     "text": [
      "1,height\n",
      "1,weight\n",
      "['BMIvalue', 'funct:BMIvalueCalc(known[\"height\"],known[\"weight\"])']\n",
      "BMIvalueCalc(known[\"height\"],known[\"weight\"])\n",
      "1,height\n",
      "1,weight\n",
      "['BMIvalue', 'funct:BMIvalueCalc(known[\"height\"],known[\"weight\"])']\n",
      "1,BMIvalue\n",
      "['BMIrange', 'funct:BMIrangeCalc(known[\"BMIvalue\"])']\n",
      "BMIrangeCalc(known[\"BMIvalue\"])\n",
      "1,height\n",
      "1,weight\n",
      "['BMIvalue', 'funct:BMIvalueCalc(known[\"height\"],known[\"weight\"])']\n",
      "1,BMIvalue\n",
      "['BMIrange', 'funct:BMIrangeCalc(known[\"BMIvalue\"])']\n",
      "1,BMIrange\n",
      "['BMIlevel', 'funct:BMIlevelCalc(known[\"BMIrange\"])']\n",
      "BMIlevelCalc(known[\"BMIrange\"])\n",
      "1,height\n",
      "1,weight\n",
      "['BMIvalue', 'funct:BMIvalueCalc(known[\"height\"],known[\"weight\"])']\n",
      "1,BMIvalue\n",
      "['BMIrange', 'funct:BMIrangeCalc(known[\"BMIvalue\"])']\n",
      "1,BMIrange\n",
      "['BMIlevel', 'funct:BMIlevelCalc(known[\"BMIrange\"])']\n",
      "2,gender,nam\n",
      "1,height\n",
      "1,weight\n",
      "1,age\n",
      "['BMRvalue', 'funct:BMRvalueOfMaleCalc(known[\"height\"], known[\"weight\"], known[\"age\"])']\n",
      "BMRvalueOfMaleCalc(known[\"height\"], known[\"weight\"], known[\"age\"])\n",
      "1,height\n",
      "1,weight\n",
      "['BMIvalue', 'funct:BMIvalueCalc(known[\"height\"],known[\"weight\"])']\n",
      "1,BMIvalue\n",
      "['BMIrange', 'funct:BMIrangeCalc(known[\"BMIvalue\"])']\n",
      "1,BMIrange\n",
      "['BMIlevel', 'funct:BMIlevelCalc(known[\"BMIrange\"])']\n",
      "2,gender,nam\n",
      "1,height\n",
      "1,weight\n",
      "1,age\n",
      "['BMRvalue', 'funct:BMRvalueOfMaleCalc(known[\"height\"], known[\"weight\"], known[\"age\"])']\n",
      "2,gender,nữ\n",
      "1,PhysicalActiveLevel\n",
      "['PhysicalActiveValue', 'funct:PAvalueCalc(known[\"PhysicalActiveLevel\"])']\n",
      "PAvalueCalc(known[\"PhysicalActiveLevel\"])\n",
      "1,height\n",
      "1,weight\n",
      "['BMIvalue', 'funct:BMIvalueCalc(known[\"height\"],known[\"weight\"])']\n",
      "1,BMIvalue\n",
      "['BMIrange', 'funct:BMIrangeCalc(known[\"BMIvalue\"])']\n",
      "1,BMIrange\n",
      "['BMIlevel', 'funct:BMIlevelCalc(known[\"BMIrange\"])']\n",
      "2,gender,nam\n",
      "1,height\n",
      "1,weight\n",
      "1,age\n",
      "['BMRvalue', 'funct:BMRvalueOfMaleCalc(known[\"height\"], known[\"weight\"], known[\"age\"])']\n",
      "2,gender,nữ\n",
      "1,PhysicalActiveLevel\n",
      "['PhysicalActiveValue', 'funct:PAvalueCalc(known[\"PhysicalActiveLevel\"])']\n",
      "1,BMRvalue\n",
      "1,PhysicalActiveValue\n",
      "1,target\n",
      "['CaloPerDay', 'funct:CaloCalc(known[\"BMRvalue\"], known[\"PhysicalActiveValue\"], known[\"target\"])']\n",
      "CaloCalc(known[\"BMRvalue\"], known[\"PhysicalActiveValue\"], known[\"target\"])\n",
      "1,height\n",
      "1,weight\n",
      "['BMIvalue', 'funct:BMIvalueCalc(known[\"height\"],known[\"weight\"])']\n",
      "1,BMIvalue\n",
      "['BMIrange', 'funct:BMIrangeCalc(known[\"BMIvalue\"])']\n",
      "1,BMIrange\n",
      "['BMIlevel', 'funct:BMIlevelCalc(known[\"BMIrange\"])']\n",
      "2,gender,nam\n",
      "1,height\n",
      "1,weight\n",
      "1,age\n",
      "['BMRvalue', 'funct:BMRvalueOfMaleCalc(known[\"height\"], known[\"weight\"], known[\"age\"])']\n",
      "2,gender,nữ\n",
      "1,PhysicalActiveLevel\n",
      "['PhysicalActiveValue', 'funct:PAvalueCalc(known[\"PhysicalActiveLevel\"])']\n",
      "1,BMRvalue\n",
      "1,PhysicalActiveValue\n",
      "1,target\n",
      "['CaloPerDay', 'funct:CaloCalc(known[\"BMRvalue\"], known[\"PhysicalActiveValue\"], known[\"target\"])']\n",
      "2,target,giữ cân\n",
      "1,CaloPerDay\n",
      "['CaloForEachMeal', 'funct:CaloToKeepWeightCalc(known[\"CaloPerDay\"])']\n",
      "CaloToKeepWeightCalc(known[\"CaloPerDay\"])\n",
      "1,height\n",
      "1,weight\n",
      "['BMIvalue', 'funct:BMIvalueCalc(known[\"height\"],known[\"weight\"])']\n",
      "1,BMIvalue\n",
      "['BMIrange', 'funct:BMIrangeCalc(known[\"BMIvalue\"])']\n",
      "1,BMIrange\n",
      "['BMIlevel', 'funct:BMIlevelCalc(known[\"BMIrange\"])']\n",
      "2,gender,nam\n",
      "1,height\n",
      "1,weight\n",
      "1,age\n",
      "['BMRvalue', 'funct:BMRvalueOfMaleCalc(known[\"height\"], known[\"weight\"], known[\"age\"])']\n",
      "2,gender,nữ\n",
      "1,PhysicalActiveLevel\n",
      "['PhysicalActiveValue', 'funct:PAvalueCalc(known[\"PhysicalActiveLevel\"])']\n",
      "1,BMRvalue\n",
      "1,PhysicalActiveValue\n",
      "1,target\n",
      "['CaloPerDay', 'funct:CaloCalc(known[\"BMRvalue\"], known[\"PhysicalActiveValue\"], known[\"target\"])']\n",
      "2,target,giữ cân\n",
      "1,CaloPerDay\n",
      "['CaloForEachMeal', 'funct:CaloToKeepWeightCalc(known[\"CaloPerDay\"])']\n",
      "2,target,tăng cân\n",
      "2,target,giảm cân\n",
      "1,ListIllness\n",
      "['ListAvoidFood', 'funct:FindAvoidFood(known[\"ListIllness\"])']\n",
      "FindAvoidFood(known[\"ListIllness\"])\n",
      "Bệnh_béo_phì\n",
      "1,height\n",
      "1,weight\n",
      "['BMIvalue', 'funct:BMIvalueCalc(known[\"height\"],known[\"weight\"])']\n",
      "1,BMIvalue\n",
      "['BMIrange', 'funct:BMIrangeCalc(known[\"BMIvalue\"])']\n",
      "1,BMIrange\n",
      "['BMIlevel', 'funct:BMIlevelCalc(known[\"BMIrange\"])']\n",
      "2,gender,nam\n",
      "1,height\n",
      "1,weight\n",
      "1,age\n",
      "['BMRvalue', 'funct:BMRvalueOfMaleCalc(known[\"height\"], known[\"weight\"], known[\"age\"])']\n",
      "2,gender,nữ\n",
      "1,PhysicalActiveLevel\n",
      "['PhysicalActiveValue', 'funct:PAvalueCalc(known[\"PhysicalActiveLevel\"])']\n",
      "1,BMRvalue\n",
      "1,PhysicalActiveValue\n",
      "1,target\n",
      "['CaloPerDay', 'funct:CaloCalc(known[\"BMRvalue\"], known[\"PhysicalActiveValue\"], known[\"target\"])']\n",
      "2,target,giữ cân\n",
      "1,CaloPerDay\n",
      "['CaloForEachMeal', 'funct:CaloToKeepWeightCalc(known[\"CaloPerDay\"])']\n",
      "2,target,tăng cân\n",
      "2,target,giảm cân\n",
      "1,ListIllness\n",
      "['ListAvoidFood', 'funct:FindAvoidFood(known[\"ListIllness\"])']\n",
      "1,ListIllness\n",
      "['ListNeedFood', 'funct:FindNeedFood(known[\"ListIllness\"])']\n",
      "FindNeedFood(known[\"ListIllness\"])\n",
      "Bệnh_béo_phì\n",
      "1,height\n",
      "1,weight\n",
      "['BMIvalue', 'funct:BMIvalueCalc(known[\"height\"],known[\"weight\"])']\n",
      "1,BMIvalue\n",
      "['BMIrange', 'funct:BMIrangeCalc(known[\"BMIvalue\"])']\n",
      "1,BMIrange\n",
      "['BMIlevel', 'funct:BMIlevelCalc(known[\"BMIrange\"])']\n",
      "2,gender,nam\n",
      "1,height\n",
      "1,weight\n",
      "1,age\n",
      "['BMRvalue', 'funct:BMRvalueOfMaleCalc(known[\"height\"], known[\"weight\"], known[\"age\"])']\n",
      "2,gender,nữ\n",
      "1,PhysicalActiveLevel\n",
      "['PhysicalActiveValue', 'funct:PAvalueCalc(known[\"PhysicalActiveLevel\"])']\n",
      "1,BMRvalue\n",
      "1,PhysicalActiveValue\n",
      "1,target\n",
      "['CaloPerDay', 'funct:CaloCalc(known[\"BMRvalue\"], known[\"PhysicalActiveValue\"], known[\"target\"])']\n",
      "2,target,giữ cân\n",
      "1,CaloPerDay\n",
      "['CaloForEachMeal', 'funct:CaloToKeepWeightCalc(known[\"CaloPerDay\"])']\n",
      "2,target,tăng cân\n",
      "2,target,giảm cân\n",
      "1,ListIllness\n",
      "['ListAvoidFood', 'funct:FindAvoidFood(known[\"ListIllness\"])']\n",
      "1,ListIllness\n",
      "['ListNeedFood', 'funct:FindNeedFood(known[\"ListIllness\"])']\n",
      "1,ListIllness\n",
      "['ListLimitFood', 'funct:FindLimitFood(known[\"ListIllness\"])']\n",
      "FindLimitFood(known[\"ListIllness\"])\n",
      "Bệnh_béo_phì\n",
      "1,height\n",
      "1,weight\n",
      "['BMIvalue', 'funct:BMIvalueCalc(known[\"height\"],known[\"weight\"])']\n",
      "1,BMIvalue\n",
      "['BMIrange', 'funct:BMIrangeCalc(known[\"BMIvalue\"])']\n",
      "1,BMIrange\n",
      "['BMIlevel', 'funct:BMIlevelCalc(known[\"BMIrange\"])']\n",
      "2,gender,nam\n",
      "1,height\n",
      "1,weight\n",
      "1,age\n",
      "['BMRvalue', 'funct:BMRvalueOfMaleCalc(known[\"height\"], known[\"weight\"], known[\"age\"])']\n",
      "2,gender,nữ\n",
      "1,PhysicalActiveLevel\n",
      "['PhysicalActiveValue', 'funct:PAvalueCalc(known[\"PhysicalActiveLevel\"])']\n",
      "1,BMRvalue\n",
      "1,PhysicalActiveValue\n",
      "1,target\n",
      "['CaloPerDay', 'funct:CaloCalc(known[\"BMRvalue\"], known[\"PhysicalActiveValue\"], known[\"target\"])']\n",
      "2,target,giữ cân\n",
      "1,CaloPerDay\n",
      "['CaloForEachMeal', 'funct:CaloToKeepWeightCalc(known[\"CaloPerDay\"])']\n",
      "2,target,tăng cân\n",
      "2,target,giảm cân\n",
      "1,ListIllness\n",
      "['ListAvoidFood', 'funct:FindAvoidFood(known[\"ListIllness\"])']\n",
      "1,ListIllness\n",
      "['ListNeedFood', 'funct:FindNeedFood(known[\"ListIllness\"])']\n",
      "1,ListIllness\n",
      "['ListLimitFood', 'funct:FindLimitFood(known[\"ListIllness\"])']\n"
     ]
    }
   ],
   "source": [
    "count = 0\n",
    "while count <= 12:\n",
    "    if extract_rule(data_rule[count]) == True:\n",
    "        count = 0\n",
    "    else: count+=1        "
   ]
  },
  {
   "cell_type": "code",
   "execution_count": 17,
   "metadata": {},
   "outputs": [
    {
     "name": "stdout",
     "output_type": "stream",
     "text": [
      "1,ListAvoidFood\n",
      "1,ListNeedFood\n",
      "1,ListLimitFood\n",
      "['ListFood', 'funct:FilterFood(known[\"ListAvoidFood\"], known[\"ListNeedFood\"], known[\"ListLimitFood\"])']\n",
      "FilterFood(known[\"ListAvoidFood\"], known[\"ListNeedFood\"], known[\"ListLimitFood\"])\n"
     ]
    },
    {
     "ename": "TypeError",
     "evalue": "'function' object is not iterable",
     "output_type": "error",
     "traceback": [
      "\u001b[1;31m---------------------------------------------------------------------------\u001b[0m",
      "\u001b[1;31mTypeError\u001b[0m                                 Traceback (most recent call last)",
      "\u001b[1;32m<ipython-input-17-51fbe2cb47cc>\u001b[0m in \u001b[0;36m<module>\u001b[1;34m()\u001b[0m\n\u001b[1;32m----> 1\u001b[1;33m \u001b[0mprint\u001b[0m\u001b[1;33m(\u001b[0m\u001b[0mextract_rule\u001b[0m\u001b[1;33m(\u001b[0m\u001b[0mdata_rule\u001b[0m\u001b[1;33m[\u001b[0m\u001b[1;36m13\u001b[0m\u001b[1;33m]\u001b[0m\u001b[1;33m)\u001b[0m\u001b[1;33m)\u001b[0m\u001b[1;33m\u001b[0m\u001b[0m\n\u001b[0m",
      "\u001b[1;32m<ipython-input-10-f1ba1c7659e3>\u001b[0m in \u001b[0;36mextract_rule\u001b[1;34m(rule)\u001b[0m\n\u001b[0;32m     40\u001b[0m         \u001b[1;32mreturn\u001b[0m \u001b[0mflag\u001b[0m\u001b[1;33m\u001b[0m\u001b[0m\n\u001b[0;32m     41\u001b[0m     \u001b[1;32melse\u001b[0m\u001b[1;33m:\u001b[0m\u001b[1;33m\u001b[0m\u001b[0m\n\u001b[1;32m---> 42\u001b[1;33m         \u001b[0mflag\u001b[0m \u001b[1;33m=\u001b[0m \u001b[0mextract_rule_right\u001b[0m\u001b[1;33m(\u001b[0m\u001b[0mrule_right\u001b[0m\u001b[1;33m)\u001b[0m\u001b[1;33m\u001b[0m\u001b[0m\n\u001b[0m\u001b[0;32m     43\u001b[0m     \u001b[1;32mreturn\u001b[0m \u001b[0mflag\u001b[0m\u001b[1;33m\u001b[0m\u001b[0m\n",
      "\u001b[1;32m<ipython-input-10-f1ba1c7659e3>\u001b[0m in \u001b[0;36mextract_rule_right\u001b[1;34m(rule_right)\u001b[0m\n\u001b[0;32m     30\u001b[0m         \u001b[0mfunct\u001b[0m \u001b[1;33m=\u001b[0m \u001b[0mrule_right\u001b[0m\u001b[1;33m[\u001b[0m\u001b[1;36m1\u001b[0m\u001b[1;33m]\u001b[0m\u001b[1;33m.\u001b[0m\u001b[0msplit\u001b[0m\u001b[1;33m(\u001b[0m\u001b[1;34m':'\u001b[0m\u001b[1;33m)\u001b[0m\u001b[1;33m[\u001b[0m\u001b[1;36m1\u001b[0m\u001b[1;33m]\u001b[0m\u001b[1;33m\u001b[0m\u001b[0m\n\u001b[0;32m     31\u001b[0m         \u001b[0mprint\u001b[0m\u001b[1;33m(\u001b[0m\u001b[0mfunct\u001b[0m\u001b[1;33m)\u001b[0m\u001b[1;33m\u001b[0m\u001b[0m\n\u001b[1;32m---> 32\u001b[1;33m         \u001b[0mknown\u001b[0m\u001b[1;33m[\u001b[0m\u001b[0mrule_right\u001b[0m\u001b[1;33m[\u001b[0m\u001b[1;36m0\u001b[0m\u001b[1;33m]\u001b[0m\u001b[1;33m]\u001b[0m \u001b[1;33m=\u001b[0m \u001b[0meval\u001b[0m\u001b[1;33m(\u001b[0m\u001b[0mfunct\u001b[0m\u001b[1;33m)\u001b[0m\u001b[1;33m\u001b[0m\u001b[0m\n\u001b[0m\u001b[0;32m     33\u001b[0m     \u001b[1;32mreturn\u001b[0m \u001b[0mflag\u001b[0m\u001b[1;33m\u001b[0m\u001b[0m\n\u001b[0;32m     34\u001b[0m \u001b[1;33m\u001b[0m\u001b[0m\n",
      "\u001b[1;32m<string>\u001b[0m in \u001b[0;36m<module>\u001b[1;34m()\u001b[0m\n",
      "\u001b[1;32m<ipython-input-16-824f0f90fa27>\u001b[0m in \u001b[0;36mFilterFood\u001b[1;34m(list_avoid_food, list_need_food, list_limit_food)\u001b[0m\n\u001b[0;32m     12\u001b[0m     \u001b[0mresult\u001b[0m \u001b[1;33m=\u001b[0m \u001b[1;33m{\u001b[0m\u001b[1;33m}\u001b[0m\u001b[1;33m\u001b[0m\u001b[0m\n\u001b[0;32m     13\u001b[0m     \u001b[0mlist_all_food\u001b[0m \u001b[1;33m=\u001b[0m \u001b[0mall_food\u001b[0m\u001b[1;33m(\u001b[0m\u001b[1;33m)\u001b[0m\u001b[1;33m\u001b[0m\u001b[0m\n\u001b[1;32m---> 14\u001b[1;33m     \u001b[0mlist_all_food\u001b[0m \u001b[1;33m=\u001b[0m \u001b[1;33m[\u001b[0m\u001b[0mfood\u001b[0m \u001b[1;32mfor\u001b[0m \u001b[0mfood\u001b[0m \u001b[1;32min\u001b[0m \u001b[0mall_food\u001b[0m \u001b[1;32mif\u001b[0m \u001b[0mfood\u001b[0m \u001b[1;32mnot\u001b[0m \u001b[1;32min\u001b[0m \u001b[0mlist_avoid_food\u001b[0m\u001b[1;33m]\u001b[0m\u001b[1;33m\u001b[0m\u001b[0m\n\u001b[0m\u001b[0;32m     15\u001b[0m     \u001b[1;32mfor\u001b[0m \u001b[0mfood_1\u001b[0m \u001b[1;32min\u001b[0m \u001b[0mlist_all_food\u001b[0m\u001b[1;33m:\u001b[0m\u001b[1;33m\u001b[0m\u001b[0m\n\u001b[0;32m     16\u001b[0m         \u001b[1;32mif\u001b[0m \u001b[0mfood_1\u001b[0m \u001b[1;32min\u001b[0m \u001b[0mlist_need_food\u001b[0m\u001b[1;33m:\u001b[0m\u001b[1;33m\u001b[0m\u001b[0m\n",
      "\u001b[1;31mTypeError\u001b[0m: 'function' object is not iterable"
     ]
    }
   ],
   "source": [
    "print(extract_rule(data_rule[13]))"
   ]
  },
  {
   "cell_type": "code",
   "execution_count": 12,
   "metadata": {},
   "outputs": [
    {
     "name": "stdout",
     "output_type": "stream",
     "text": [
      "{'height': 170, 'weight': 55, 'gender': 'nam', 'age': 17, 'PhysicalActiveLevel': 'Hoạt động vừa', 'target': 'giữ cân', 'ListIllness': 'Bệnh béo phì', 'BMIvalue': 19.03, 'BMIrange': '18.50-24.99', 'BMIlevel': 'Bình_thường', 'BMRvalue': 1544.52, 'PhysicalActiveValue': 1.55, 'CaloPerDay': 2394.01, 'CaloForEachMeal': [383.04, 957.6, 813.96], 'ListAvoidFood': ['Butter', 'Peanut', 'Khoai_tây'], 'ListNeedFood': ['Bắp', 'Cà_rốt', 'Mực', 'Nho', 'Dưa_hấu', 'Táo'], 'ListLimitFood': ['Butter']}\n"
     ]
    }
   ],
   "source": [
    "print(known)"
   ]
  },
  {
   "cell_type": "code",
   "execution_count": 25,
   "metadata": {},
   "outputs": [
    {
     "name": "stdout",
     "output_type": "stream",
     "text": [
      "d\n"
     ]
    }
   ],
   "source": [
    "a = {\"c\": {\"b\":\"d\"}}\n",
    "print(a[\"c\"][\"b\"])"
   ]
  },
  {
   "cell_type": "code",
   "execution_count": null,
   "metadata": {},
   "outputs": [],
   "source": []
  }
 ],
 "metadata": {
  "kernelspec": {
   "display_name": "Python 3",
   "language": "python",
   "name": "python3"
  },
  "language_info": {
   "codemirror_mode": {
    "name": "ipython",
    "version": 3
   },
   "file_extension": ".py",
   "mimetype": "text/x-python",
   "name": "python",
   "nbconvert_exporter": "python",
   "pygments_lexer": "ipython3",
   "version": "3.6.5"
  }
 },
 "nbformat": 4,
 "nbformat_minor": 2
}
