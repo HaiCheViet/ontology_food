{
 "cells": [
  {
   "cell_type": "code",
   "execution_count": 7,
   "metadata": {},
   "outputs": [],
   "source": [
    "from owlready2 import *\n",
    "import sys\n",
    "import os\n",
    "import json"
   ]
  },
  {
   "cell_type": "markdown",
   "metadata": {},
   "source": [
    "# System define file"
   ]
  },
  {
   "cell_type": "code",
   "execution_count": 2,
   "metadata": {},
   "outputs": [],
   "source": [
    "sys.path.append(os.path.join(os.path.dirname(\"__file__\"), '..'))\n",
    "current_dir = os.path.dirname(\"__file__\")\n",
    "current_dir = current_dir if current_dir is not '' else '.'\n",
    "data_dir_path = current_dir + '/rdf.owl' # directory to scan for any txt files"
   ]
  },
  {
   "cell_type": "markdown",
   "metadata": {},
   "source": [
    "# Class queries and clean data"
   ]
  },
  {
   "cell_type": "code",
   "execution_count": 5,
   "metadata": {},
   "outputs": [],
   "source": [
    "class SparqlQueries:\n",
    "    def __init__(self):\n",
    "        my_world = World()\n",
    "        my_world.get_ontology(\"file://%s\"%data_dir_path).load() #path to the owl file is given here\n",
    "        sync_reasoner(my_world)  #reasoner is started and synchronized here\n",
    "        self.graph = my_world.as_rdflib_graph()\n",
    "\n",
    "    def search(self):\n",
    "        #Search query is given here\n",
    "        #Base URL of your ontology has to be given here\n",
    "        query = \"PREFIX rdfs: <http://www.w3.org/2000/01/rdf-schema#> \" \\\n",
    "                \"PREFIX FoodKB: <http://websemantic.net/2013/FoodKB#>\"\\\n",
    "                \"SELECT ?s ?p ?o \" \\\n",
    "                \"WHERE { \" \\\n",
    "                \"?s ?p ?o .\" \\\n",
    "                \"}\"\n",
    "\n",
    "#         query = \"\"\"\n",
    "#                 PREFIX rdfs: <http://www.w3.org/2000/01/rdf-schema#>\n",
    "#                 PREFIX FoodKB: <http://websemantic.net/2013/FoodKB#>\n",
    "#                 SELECT ?label\n",
    "#                 WHERE { <http://websemantic.net/2013/FoodKB#Has_Activity_Level> rdfs:label ?label} }\n",
    "#             \"\"\" \n",
    "\n",
    "        #query is being run\n",
    "        resultsList = self.graph.query(query)\n",
    "\n",
    "#         creating json object\n",
    "        response = []\n",
    "        for item in resultsList:\n",
    "            s = str(item['s'].toPython())\n",
    "            s = re.sub(r'.*#',\"\",s)\n",
    "\n",
    "            p = str(item['p'].toPython())\n",
    "            p = re.sub(r'.*#',\"\", p) \n",
    "\n",
    "            o = str(item['o'].toPython())\n",
    "            o = re.sub(r'.*#', \"\", o)\n",
    "            response.append({'label' : s, 'p' : p, \"o\" : o})\n",
    "#             response.append({'label' : s})\n",
    "\n",
    "        return response"
   ]
  },
  {
   "cell_type": "code",
   "execution_count": 17,
   "metadata": {},
   "outputs": [
    {
     "name": "stderr",
     "output_type": "stream",
     "text": [
      "* Owlready2 * Running HermiT...\n",
      "    java -Xmx2000M -cp C:\\Users\\hai che viet\\Anaconda3\\lib\\site-packages\\owlready2\\hermit;C:\\Users\\hai che viet\\Anaconda3\\lib\\site-packages\\owlready2\\hermit\\HermiT.jar org.semanticweb.HermiT.cli.CommandLine -c -O -D -I file:///C:/Users/HAICHE~1/AppData/Local/Temp/tmpmsvj8eg2\n",
      "* Owlready2 * HermiT took 1.023416519165039 seconds\n",
      "* Owlready * Reparenting FoodKB.Has_Body_Mass_Index_Level: {owl.ObjectProperty, FoodKB.Has_Body_Mass_Index} => {FoodKB.Has_Body_Mass_Index}\n",
      "* Owlready * Reparenting FoodKB.Has_Body_Mass_Index_Range: {owl.ObjectProperty, FoodKB.Has_Body_Mass_Index} => {FoodKB.Has_Body_Mass_Index}\n",
      "* Owlready * Reparenting FoodKB.Has_Activity_Level_Range: {owl.ObjectProperty, FoodKB.Has_Activity_Level} => {FoodKB.Has_Activity_Level}\n",
      "* Owlready * Reparenting FoodKB.Has_Activity_Level_Value: {owl.ObjectProperty, FoodKB.Has_Activity_Level} => {FoodKB.Has_Activity_Level}\n"
     ]
    }
   ],
   "source": [
    "query = SparqlQueries()\n",
    "clean_data = query.search()"
   ]
  },
  {
   "cell_type": "code",
   "execution_count": 18,
   "metadata": {},
   "outputs": [],
   "source": [
    "with open(\"reuslt_after_clean.json\",'w')as f:\n",
    "    f.write(json.dumps(clean_data))"
   ]
  },
  {
   "cell_type": "markdown",
   "metadata": {},
   "source": [
    "# Things needed to insert into ontology and their template"
   ]
  },
  {
   "cell_type": "code",
   "execution_count": null,
   "metadata": {},
   "outputs": [],
   "source": [
    "\"\"\" Insert food\n",
    "def Insert_individual_food(\n",
    "                Name_of_food, Has_calo, Has_Nutrient,\n",
    "                Has_suitable_time, Has_receipt, Not_Use_Together)\n",
    "\"\"\"\n",
    "\n",
    "\"\"\" Insert nutrients\n",
    "def Insert_individual_nutrients(\n",
    "                Name_of_nutrients, Has_effect, Has_exceed_effect,\n",
    "                Has_lackof_effect, Has_needed_amount)\n",
    "\"\"\"\n",
    "\n",
    "\"\"\" Insert health_object\n",
    "def Insert_individual_health(\n",
    "                Name_of_object, Has_food_needed, Has_food_avoided,\n",
    "                Has_food_not_much, Has_needed_amount)\n",
    "\"\"\"\n",
    "\n",
    "\n",
    "\"\"\" Insert custormer\n",
    "def Insert_individual_custormer(\n",
    "                Name_of_Cus, Has_id, Has_height, \n",
    "                Has_weight, Has_BMI_Level, Has_Activity_Level_Value\n",
    "                Has_Menu = None)\n",
    "\"\"\""
   ]
  }
 ],
 "metadata": {
  "kernelspec": {
   "display_name": "Python 3",
   "language": "python",
   "name": "python3"
  },
  "language_info": {
   "codemirror_mode": {
    "name": "ipython",
    "version": 3
   },
   "file_extension": ".py",
   "mimetype": "text/x-python",
   "name": "python",
   "nbconvert_exporter": "python",
   "pygments_lexer": "ipython3",
   "version": "3.6.5"
  }
 },
 "nbformat": 4,
 "nbformat_minor": 2
}
