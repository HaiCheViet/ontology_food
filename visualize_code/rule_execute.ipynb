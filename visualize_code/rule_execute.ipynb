{
 "cells": [
  {
   "cell_type": "code",
   "execution_count": 64,
   "metadata": {},
   "outputs": [],
   "source": [
    "import sys\n",
    "import os\n",
    "import re\n",
    "from query_rdfs import *\n",
    "import itertools\n",
    "import random\n",
    "\n",
    "sys.path.append(os.path.join(os.path.dirname(\"__file__\"), '..'))\n",
    "current_dir = os.path.dirname(\"__file__\")\n",
    "current_dir = current_dir if current_dir is not '' else '.'\n",
    "# directory to scan for any txt files\n",
    "data_dir_path = current_dir + '/rule'\n",
    "\n",
    "known = {\"name\": \"Che Viet Hai\", \"height\": 170, \"weight\": 55, \"gender\": \"nam\", \n",
    "         \"age\": 17, \"PhysicalActiveLevel\": \"Hoạt động vừa\", \"target\": \"giữ cân\",\n",
    "         \"ListIllness\": \"Bệnh_béo_phì\"}\n",
    "data_rule = []\n",
    "function = []"
   ]
  },
  {
   "cell_type": "code",
   "execution_count": 65,
   "metadata": {},
   "outputs": [],
   "source": [
    "with open(data_dir_path + \"/rule.txt\", \"r\", encoding=\"utf8\") as f:\n",
    "    for line in f:\n",
    "        data_rule.append(line)\n",
    "with open(data_dir_path + \"/function.txt\", \"r\", encoding=\"utf8\") as f:\n",
    "    for line in f:\n",
    "        function.append(line)"
   ]
  },
  {
   "cell_type": "code",
   "execution_count": 7,
   "metadata": {},
   "outputs": [
    {
     "name": "stdout",
     "output_type": "stream",
     "text": [
      "['\\ufeffbmr,nu=447.593+(9.247*weight)+(3.098*height)-(4.33*age)\\n', 'bmr,nam=88.362+(13.397 *weight)+(4.799*height)-(5.677*age)\\n', 'bmi=weight/(height*height)\\n', 'calo=BMRvalue*PhysicalActiveValue\\n', '1.2:Quá ít hoạt động\\n', '1.375:Ít hoạt động\\n', '1.55:Hoạt động vừa\\n', '1.725:Hoạt động nhiều\\n', '1.9:Hoạt động cường độ cao']\n"
     ]
    }
   ],
   "source": [
    "print(function)"
   ]
  },
  {
   "cell_type": "markdown",
   "metadata": {},
   "source": [
    "# BMI function"
   ]
  },
  {
   "cell_type": "code",
   "execution_count": 8,
   "metadata": {},
   "outputs": [],
   "source": [
    "def BMIvalueCalc(height, weight):\n",
    "    height/=100\n",
    "    return round(eval(function[2].split(\"=\")[1]),2)\n",
    "\n",
    "def BMIrangeCalc(bmi_value):\n",
    "    return BMI_range_calc(bmi_value)\n",
    "\n",
    "def BMIlevelCalc(bmi_range):\n",
    "    return has_value(bmi_range)[\"value\"]"
   ]
  },
  {
   "cell_type": "markdown",
   "metadata": {},
   "source": [
    "# BMR function"
   ]
  },
  {
   "cell_type": "code",
   "execution_count": 63,
   "metadata": {},
   "outputs": [],
   "source": [
    "def BMRvalueOfMaleCalc(height, weight, age):\n",
    "    result = function[1].split(\"=\")[1]\n",
    "    return round(eval(result), 2)\n",
    "\n",
    "def BMRvalueOfFemaleCalc(height, weight, age):\n",
    "    function[1] = function[1].split(\"=\")[1]\n",
    "    return round(eval(result), 2)\n",
    "\n",
    "# print (BMIvalueCalc(height,weight)) "
   ]
  },
  {
   "cell_type": "markdown",
   "metadata": {},
   "source": [
    "# PA function"
   ]
  },
  {
   "cell_type": "code",
   "execution_count": 10,
   "metadata": {},
   "outputs": [],
   "source": [
    "def PAvalueCalc(PhysicalActiveLevel):\n",
    "    for count in range(4,9):\n",
    "        result = function[count].split(\":\")\n",
    "        if result[1].endswith(\"\\n\"):\n",
    "            result[1] = result[1][:-1]\n",
    "        if  result[1] == PhysicalActiveLevel:\n",
    "            return float(result[0])"
   ]
  },
  {
   "cell_type": "markdown",
   "metadata": {},
   "source": [
    "# CaloCalc function"
   ]
  },
  {
   "cell_type": "code",
   "execution_count": 11,
   "metadata": {},
   "outputs": [],
   "source": [
    "def CaloCalc(BMRvalue, PhysicalActiveValue, target):\n",
    "    result = round(eval(function[3].split(\"=\")[1]),2)\n",
    "    if target == \"tăng cân\":\n",
    "        result +=500\n",
    "    elif target == \"giảm cân\":\n",
    "        result -=500\n",
    "    return result\n",
    "\n",
    "def CaloToKeepWeightCalc(calo_per_day):\n",
    "    # breakfast: 26%, #Lunch: 40%, # Dinner: 34%\n",
    "    return [round(calo_per_day*26/100, 2), \n",
    "            round(calo_per_day*40/100, 2), round(calo_per_day*34/100, 2)]    "
   ]
  },
  {
   "cell_type": "markdown",
   "metadata": {},
   "source": [
    "# ListFood function"
   ]
  },
  {
   "cell_type": "code",
   "execution_count": 39,
   "metadata": {},
   "outputs": [],
   "source": [
    "def FindAvoidFood(list_illness):\n",
    "    return avoided_group_food(list_illness) # return array\n",
    "\n",
    "def FindNeedFood(list_illness):\n",
    "    return needed_group_food(list_illness)\n",
    "\n",
    "def FindLimitFood(list_illness):\n",
    "    return limit_food(list_illness)\n",
    "\n",
    "def FilterFood(list_avoid_food, list_need_food, \n",
    "               list_limit_food):\n",
    "    result = {}\n",
    "    list_all_food = []\n",
    "    tamp_list = [food.split(\"|\") for food in all_food()]\n",
    "    set_avoid_food = set(list_avoid_food)\n",
    "    for food in tamp_list:\n",
    "        if food[0] not in set_avoid_food:\n",
    "            list_all_food.append(food)\n",
    "    for food_1 in list_all_food:\n",
    "        if food_1[0] in list_need_food:\n",
    "            food_1.append(2)\n",
    "            result[food_1[0]] = food_1[1:]\n",
    "        elif food_1[0] in list_limit_food:\n",
    "            food_1.append(-1)\n",
    "            result[food_1[0]] = food_1[1:]\n",
    "        else:\n",
    "            food_1.append(1)\n",
    "            result[food_1[0]] = food_1[1:]\n",
    "    return result"
   ]
  },
  {
   "cell_type": "markdown",
   "metadata": {},
   "source": [
    "# Extract_rule_file Function"
   ]
  },
  {
   "cell_type": "code",
   "execution_count": 13,
   "metadata": {},
   "outputs": [],
   "source": [
    "def extract_rule_left(rule_left):\n",
    "    rule_left = re.findall(r'\\[(.*?)\\]',rule_left)\n",
    "    flag = True\n",
    "    for content in rule_left:\n",
    "        content = content.split(\",\")\n",
    "        if content[0] == \"1\":\n",
    "            if content[1] not in known:\n",
    "                flag = False\n",
    "                break\n",
    "        elif content[0] == \"2\":\n",
    "            try:\n",
    "                if known[content[1]] != content[2]:\n",
    "                    flag = False\n",
    "                    break\n",
    "            except:\n",
    "                flag = False\n",
    "                break\n",
    "    return flag\n",
    "                \n",
    "def extract_rule_right(rule_right):\n",
    "    rule_right = rule_right.split(\",\", 1)\n",
    "    flag = True\n",
    "    rule_right[0] = rule_right[0][1:]\n",
    "    rule_right[1] = rule_right[1][:-2]\n",
    "    if rule_right[0] in known:\n",
    "        flag = False\n",
    "    else:\n",
    "        funct = rule_right[1].split(':')[1]\n",
    "        known[rule_right[0]] = eval(funct)\n",
    "    return flag\n",
    "    \n",
    "def extract_rule(rule):\n",
    "    flag = True\n",
    "    rule_left, rule_right = rule.split(\"|\")\n",
    "    flag = extract_rule_left(rule_left)\n",
    "    if flag is False:\n",
    "        return flag\n",
    "    else: \n",
    "        flag = extract_rule_right(rule_right)\n",
    "    return flag"
   ]
  },
  {
   "cell_type": "code",
   "execution_count": 59,
   "metadata": {},
   "outputs": [
    {
     "ename": "IndexError",
     "evalue": "list index out of range",
     "output_type": "error",
     "traceback": [
      "\u001b[1;31m---------------------------------------------------------------------------\u001b[0m",
      "\u001b[1;31mIndexError\u001b[0m                                Traceback (most recent call last)",
      "\u001b[1;32m<ipython-input-59-dd24e5c85c7d>\u001b[0m in \u001b[0;36m<module>\u001b[1;34m()\u001b[0m\n\u001b[0;32m      1\u001b[0m \u001b[0mcount\u001b[0m \u001b[1;33m=\u001b[0m \u001b[1;36m0\u001b[0m\u001b[1;33m\u001b[0m\u001b[0m\n\u001b[0;32m      2\u001b[0m \u001b[1;32mwhile\u001b[0m \u001b[0mcount\u001b[0m \u001b[1;33m<=\u001b[0m \u001b[1;36m3\u001b[0m\u001b[1;33m:\u001b[0m\u001b[1;33m\u001b[0m\u001b[0m\n\u001b[1;32m----> 3\u001b[1;33m     \u001b[1;32mif\u001b[0m \u001b[0mextract_rule\u001b[0m\u001b[1;33m(\u001b[0m\u001b[0mdata_rule\u001b[0m\u001b[1;33m[\u001b[0m\u001b[0mcount\u001b[0m\u001b[1;33m]\u001b[0m\u001b[1;33m)\u001b[0m \u001b[1;33m==\u001b[0m \u001b[1;32mTrue\u001b[0m\u001b[1;33m:\u001b[0m\u001b[1;33m\u001b[0m\u001b[0m\n\u001b[0m\u001b[0;32m      4\u001b[0m         \u001b[0mprint\u001b[0m\u001b[1;33m(\u001b[0m\u001b[1;34m\"True\"\u001b[0m\u001b[1;33m)\u001b[0m\u001b[1;33m\u001b[0m\u001b[0m\n\u001b[0;32m      5\u001b[0m         \u001b[0mcount\u001b[0m \u001b[1;33m=\u001b[0m \u001b[1;36m0\u001b[0m\u001b[1;33m\u001b[0m\u001b[0m\n",
      "\u001b[1;32m<ipython-input-13-59e74f394f60>\u001b[0m in \u001b[0;36mextract_rule\u001b[1;34m(rule)\u001b[0m\n\u001b[0;32m     37\u001b[0m         \u001b[1;32mreturn\u001b[0m \u001b[0mflag\u001b[0m\u001b[1;33m\u001b[0m\u001b[0m\n\u001b[0;32m     38\u001b[0m     \u001b[1;32melse\u001b[0m\u001b[1;33m:\u001b[0m\u001b[1;33m\u001b[0m\u001b[0m\n\u001b[1;32m---> 39\u001b[1;33m         \u001b[0mflag\u001b[0m \u001b[1;33m=\u001b[0m \u001b[0mextract_rule_right\u001b[0m\u001b[1;33m(\u001b[0m\u001b[0mrule_right\u001b[0m\u001b[1;33m)\u001b[0m\u001b[1;33m\u001b[0m\u001b[0m\n\u001b[0m\u001b[0;32m     40\u001b[0m     \u001b[1;32mreturn\u001b[0m \u001b[0mflag\u001b[0m\u001b[1;33m\u001b[0m\u001b[0m\n",
      "\u001b[1;32m<ipython-input-13-59e74f394f60>\u001b[0m in \u001b[0;36mextract_rule_right\u001b[1;34m(rule_right)\u001b[0m\n\u001b[0;32m     27\u001b[0m     \u001b[1;32melse\u001b[0m\u001b[1;33m:\u001b[0m\u001b[1;33m\u001b[0m\u001b[0m\n\u001b[0;32m     28\u001b[0m         \u001b[0mfunct\u001b[0m \u001b[1;33m=\u001b[0m \u001b[0mrule_right\u001b[0m\u001b[1;33m[\u001b[0m\u001b[1;36m1\u001b[0m\u001b[1;33m]\u001b[0m\u001b[1;33m.\u001b[0m\u001b[0msplit\u001b[0m\u001b[1;33m(\u001b[0m\u001b[1;34m':'\u001b[0m\u001b[1;33m)\u001b[0m\u001b[1;33m[\u001b[0m\u001b[1;36m1\u001b[0m\u001b[1;33m]\u001b[0m\u001b[1;33m\u001b[0m\u001b[0m\n\u001b[1;32m---> 29\u001b[1;33m         \u001b[0mknown\u001b[0m\u001b[1;33m[\u001b[0m\u001b[0mrule_right\u001b[0m\u001b[1;33m[\u001b[0m\u001b[1;36m0\u001b[0m\u001b[1;33m]\u001b[0m\u001b[1;33m]\u001b[0m \u001b[1;33m=\u001b[0m \u001b[0meval\u001b[0m\u001b[1;33m(\u001b[0m\u001b[0mfunct\u001b[0m\u001b[1;33m)\u001b[0m\u001b[1;33m\u001b[0m\u001b[0m\n\u001b[0m\u001b[0;32m     30\u001b[0m     \u001b[1;32mreturn\u001b[0m \u001b[0mflag\u001b[0m\u001b[1;33m\u001b[0m\u001b[0m\n\u001b[0;32m     31\u001b[0m \u001b[1;33m\u001b[0m\u001b[0m\n",
      "\u001b[1;32m<string>\u001b[0m in \u001b[0;36m<module>\u001b[1;34m()\u001b[0m\n",
      "\u001b[1;32m<ipython-input-9-89d3b0a116c3>\u001b[0m in \u001b[0;36mBMRvalueOfMaleCalc\u001b[1;34m(height, weight, age)\u001b[0m\n\u001b[0;32m      1\u001b[0m \u001b[1;32mdef\u001b[0m \u001b[0mBMRvalueOfMaleCalc\u001b[0m\u001b[1;33m(\u001b[0m\u001b[0mheight\u001b[0m\u001b[1;33m,\u001b[0m \u001b[0mweight\u001b[0m\u001b[1;33m,\u001b[0m \u001b[0mage\u001b[0m\u001b[1;33m)\u001b[0m\u001b[1;33m:\u001b[0m\u001b[1;33m\u001b[0m\u001b[0m\n\u001b[1;32m----> 2\u001b[1;33m     \u001b[0mfunction\u001b[0m\u001b[1;33m[\u001b[0m\u001b[1;36m1\u001b[0m\u001b[1;33m]\u001b[0m \u001b[1;33m=\u001b[0m \u001b[0mfunction\u001b[0m\u001b[1;33m[\u001b[0m\u001b[1;36m1\u001b[0m\u001b[1;33m]\u001b[0m\u001b[1;33m.\u001b[0m\u001b[0msplit\u001b[0m\u001b[1;33m(\u001b[0m\u001b[1;34m\"=\"\u001b[0m\u001b[1;33m)\u001b[0m\u001b[1;33m[\u001b[0m\u001b[1;36m1\u001b[0m\u001b[1;33m]\u001b[0m\u001b[1;33m\u001b[0m\u001b[0m\n\u001b[0m\u001b[0;32m      3\u001b[0m     \u001b[1;32mreturn\u001b[0m \u001b[0mround\u001b[0m\u001b[1;33m(\u001b[0m\u001b[0meval\u001b[0m\u001b[1;33m(\u001b[0m\u001b[0mfunction\u001b[0m\u001b[1;33m[\u001b[0m\u001b[1;36m1\u001b[0m\u001b[1;33m]\u001b[0m\u001b[1;33m)\u001b[0m\u001b[1;33m,\u001b[0m \u001b[1;36m2\u001b[0m\u001b[1;33m)\u001b[0m\u001b[1;33m\u001b[0m\u001b[0m\n\u001b[0;32m      4\u001b[0m \u001b[1;33m\u001b[0m\u001b[0m\n\u001b[0;32m      5\u001b[0m \u001b[1;32mdef\u001b[0m \u001b[0mBMRvalueOfFemaleCalc\u001b[0m\u001b[1;33m(\u001b[0m\u001b[0mheight\u001b[0m\u001b[1;33m,\u001b[0m \u001b[0mweight\u001b[0m\u001b[1;33m,\u001b[0m \u001b[0mage\u001b[0m\u001b[1;33m)\u001b[0m\u001b[1;33m:\u001b[0m\u001b[1;33m\u001b[0m\u001b[0m\n",
      "\u001b[1;31mIndexError\u001b[0m: list index out of range"
     ]
    }
   ],
   "source": [
    "count = 0\n",
    "while count <= 3:\n",
    "    if extract_rule(data_rule[count]) == True:\n",
    "        print(\"True\")\n",
    "        count = 0\n",
    "    else: count+=1        "
   ]
  },
  {
   "cell_type": "code",
   "execution_count": 62,
   "metadata": {},
   "outputs": [
    {
     "name": "stdout",
     "output_type": "stream",
     "text": [
      "88.362+(13.397 *weight)+(4.799*height)-(5.677*age)\n",
      "\n",
      "False\n"
     ]
    }
   ],
   "source": [
    "known = {'name': 'Che Viet Hai', 'height': 170, 'weight': 55, 'gender': 'nam', 'age': 17, 'PhysicalActiveLevel': 'Hoạt động vừa', 'target': 'giữ cân', 'ListIllness': 'Bệnh_béo_phì', 'BMIvalue': 19.03, 'BMIrange': '18.50-24.99', 'BMIlevel': 'Bình_thường'}\n",
    "print(function[1])\n",
    "print(extract_rule(data_rule[13]))"
   ]
  },
  {
   "cell_type": "code",
   "execution_count": 43,
   "metadata": {},
   "outputs": [
    {
     "name": "stdout",
     "output_type": "stream",
     "text": [
      "{'name': 'Che Viet Hai', 'height': 170, 'weight': 55, 'gender': 'nam', 'age': 17, 'PhysicalActiveLevel': 'Hoạt động vừa', 'target': 'giữ cân', 'ListIllness': 'Bệnh_béo_phì', 'BMIvalue': 19.03, 'BMIrange': '18.50-24.99', 'BMIlevel': 'Bình_thường', 'BMRvalue': 1544.52, 'PhysicalActiveValue': 1.55, 'CaloPerDay': 2394.01, 'CaloForEachMeal': [622.44, 957.6, 813.96], 'ListAvoidFood': ['Peanut', 'Bánh_mì', 'Khoai_mì', 'Khoai_tây'], 'ListNeedFood': ['Bắp', 'Cà_rốt', 'Mực', 'Nho', 'Dưa_hấu', 'Táo'], 'ListLimitFood': [], 'ListFood': {'Almond': ['Cereal', '130', '', 1], 'Butter': ['Dairy_Products', '716', '', 1], 'Nut': ['Cereal', '134', '', 1], 'Sữa_bò': ['Dairy_Products', '70', \"['Cam', 'Trứng_gà', 'Trứng_ngỗng', 'Trứng_vịt']\", 1], 'Sữa_đặc': ['Dairy_Products', '320', '', 1], 'Walnut': ['Cereal', '137', '', 1], 'Atiso': ['Vegetables', '47', \"['Thịt_chó']\", 1], 'Bí_đỏ': ['Vegetables', '559', \"['Cá_hồi', 'Lươn', 'Thịt_cừu', 'Tôm']\", 1], 'Bơ': ['Fruits', '160', '', 1], 'Bưởi': ['Fruits', '42', \"['Cà_rốt', 'Dưa_leo']\", 1], 'Bạc_hà': ['Vegetables', '70', \"['Cua']\", 1], 'Bắp': ['Cereal', '86', '', 2], 'Bắp_cải': ['Vegetables', '25', \"['Thịt_thỏ']\", 1], 'Cam': ['Fruits', '49', \"['Sữa_bò', 'Cà_rốt', 'Dưa_leo', 'Thịt_bò', 'Thịt_thỏ']\", 1], 'Chanh': ['Fruits', '29', \"['Đu_Đủ']\", 1], 'Chuối': ['Fruits', '89', \"['Khoai_tây', 'Sữa_chua', 'Ổi']\", 1], 'Chôm_chôm': ['Fruits', '75', '', 1], 'Cua': ['SeaFood', '85', \"['Bạc_hà', 'Cà_tím', 'Quýt', 'Thịt_gà', 'Thịt_gà_tây']\", 1], 'Cà_chua': ['Fruits', '18', \"['Dưa_leo', 'Khoai_tây']\", 1], 'Cà_rốt': ['Vegetables', '41', \"['Bưởi', 'Cam']\", 2], 'Cà_tím': ['Vegetables', '24', \"['Cua']\", 1], 'Cá_chép': ['SeaFood', '127', \"['Thịt_chó']\", 1], 'Cá_hồi': ['SeaFood', '208', \"['Cần_tây']\", 1], 'Cá_ngừ': ['SeaFood', '184', \"['Cần_tây']\", 1], 'Cơm': ['Starch', '204', '', 1], 'Cần_tây': ['Vegetables', '16', \"['Cua', 'Cá_ngừ', 'Dưa_leo', 'Thịt_rùa', 'Tôm']\", 1], 'Củ_cải_trắng': ['Vegetables', '16', \"['Nho', 'Nấm', 'Táo']\", 1], 'Củ_hành': ['Vegetables', '40', \"['Thịt_chó']\", 1], 'Củ_sắn': ['Vegetables', '38', \"['Khoai_tây']\", 1], 'Dâu_tây': ['Fruits', '32', \"['Hẹ']\", 1], 'Dưa_hấu': ['Fruits', '30', \"['Thịt_dê']\", 2], 'Dưa_leo': ['Vegetables', '15', \"['Bưởi', 'Cam', 'Cà_chua', 'Quýt', 'Rau_dền']\", 1], 'Dừa': ['Fruits', '354', '', 1], 'Gừng': ['Vegetables', '80', \"['Cá_hồi', 'Cá_ngừ', 'Cá_đuối', 'Thịt_chó', 'Thịt_thỏ']\", 1], 'Hẹ': ['Vegetables', '30', \"['Dâu_tây']\", 1], 'Khóm': ['Fruits', '50', \"['Xoài']\", 1], 'Khổ_qua': ['Vegetables', '17', \"['Tôm']\", 1], 'Lươn': ['SeaFood', '184', \"['Bí_đỏ', 'Thịt_chó', 'Táo']\", 1], 'Măng': ['Vegetables', '27', \"['Thịt_cừu', 'Thịt_rùa']\", 1], 'Mướp': ['Vegetables', '14', '', 1], 'Mực': ['SeaFood', '79', '', 2], 'Nho': ['Fruits', '299', \"['Cua', 'Cá_chép', 'Cá_hồi', 'Củ_cải_trắng']\", 2], 'Nấm': ['Vegetables', '22', \"['Củ_cải_trắng']\", 1], 'Quýt': ['Fruits', '53', \"['Cua', 'Dưa_leo']\", 1], 'Rau_dền': ['Vegetables', '23', '', 1], 'Rau_muống': ['Vegetables', '19', \"['Sữa_bò']\", 1], 'Salad': ['Vegetables', '41', '', 1], 'Sò': ['SeaFood', '79', '', 1], 'Sầu_riêng': ['Fruits', '147', \"['Cua', 'Thịt_bò', 'Thịt_chó', 'Thịt_cừu']\", 1], 'Sữa_cừu': ['Dairy_Products', '120', \"['Cam', 'Trứng_gà', 'Trứng_ngỗng', 'Trứng_vịt']\", 1], 'Sữa_dê': ['Dairy_Products', '76', \"['Cam', 'Trứng_gà', 'Trứng_ngỗng', 'Trứng_vịt']\", 1], 'Thịt_bò': ['Meat', '254', \"['Cam', 'Sầu_riêng', 'Tôm']\", 1], 'Thịt_cừu': ['Meat', '282', \"['Bí_đỏ', 'Sầu_riêng']\", 1], 'Thịt_dê': ['Meat', '122', \"['Bí_đỏ', 'Dưa_hấu', 'Tôm']\", 1], 'Thịt_gà': ['Poultry', '143', \"['Cua', 'Thịt_chó']\", 1], 'Thịt_gà_tây': ['Poultry', '149', \"['Cua', 'Thịt_chó']\", 1], 'Thịt_heo': ['Meat', '243', \"['Peanut', 'Thịt_dê', 'Đậu_nành']\", 1], 'Thịt_hươu': ['Meat', '157', \"['Cá_hồi', 'Tôm']\", 1], 'Thịt_lợn_rừng': ['Meat', '160', '', 1], 'Thịt_rùa': ['SeaFood', '89', \"['Măng']\", 1], 'Thịt_thỏ': ['Meat', '114', \"['Bắp_cải', 'Cam', 'Gừng', 'Trứng_gà', 'Trứng_ngỗng', 'Trứng_vịt']\", 1], 'Thịt_vịt': ['Poultry', '132', \"['Thịt_rùa']\", 1], 'Thịt_ếch': ['Meat', '73', '', 1], 'Trứng_gà': ['Egg_Products', '70', \"['Thịt_thỏ']\", 1], 'Trứng_ngỗng': ['Egg_Products', '266', \"['Thịt_thỏ', 'Đậu_nành']\", 1], 'Trứng_vịt': ['Egg_Products', '130', \"['Thịt_thỏ']\", 1], 'Táo': ['Fruits', '52', \"['Lươn']\", 2], 'Tôm': ['SeaFood', '76', \"['Bí_đỏ', 'Thịt_bò', 'Thịt_dê', 'Thịt_hươu']\", 1], 'Xoài': ['Fruits', '70', \"['Khóm']\", 1], 'Đu_Đủ': ['Fruits', '43', \"['Chanh']\", 1], 'Đậu_nành': ['Vegetables', '109', \"['Trứng_gà', 'Trứng_ngỗng', 'Trứng_vịt']\", 1], 'Ốc': ['SeaFood', '90', \"['Bắp', 'Cần_tây']\", 1], 'Ổi': ['Fruits', '68', \"['Chuối']\", 1]}}\n"
     ]
    }
   ],
   "source": [
    "print(known)"
   ]
  },
  {
   "cell_type": "code",
   "execution_count": 121,
   "metadata": {},
   "outputs": [],
   "source": [
    "def find_type(list_food, types):\n",
    "    result = {}\n",
    "    for food in list_food:\n",
    "        if list_food[food][0] == types:\n",
    "            result[food] = list_food[food]\n",
    "    return result\n",
    "\n",
    "#rule_meal = [0.1, 1]\n",
    "def caculate_gram(rule_meal, calor_food, calor_per_meal): #return \n",
    "    result = None\n",
    "    \n",
    "    calor_food_for_meal = rule_meal[0] * calor_per_meal\n",
    "    portion = round(calor_food_for_meal / calor_food * 100, 1)\n",
    "    \n",
    "    result = [calor_food_for_meal, portion]\n",
    "    return result\n",
    "\n",
    "def food_not_use_together(list_food, meal):\n",
    "    list_food_name = []\n",
    "    list_food_not_use = set()\n",
    "    for item in meal:\n",
    "        for food_name in item:\n",
    "            list_food_name.append(food_name)\n",
    "            food_not_use = re.findall(r'\\[(.*?)\\]',list_food[food_name][2])\n",
    "            if food_not_use != []:\n",
    "                food_not_use = food_not_use[0].split(\",\")\n",
    "                food_not_use = list(map(lambda x: x.replace(\"'\", \"\"), food_not_use))\n",
    "                for item in food_not_use:\n",
    "                    list_food_not_use.add(item.strip())\n",
    "    for food in list_food_name:\n",
    "        if food in list_food_not_use:\n",
    "            return False\n",
    "    return True\n",
    "\n",
    "def nCi(n_array, number):\n",
    "    result = None\n",
    "\n",
    "    result = list(itertools.combinations(n_array,number))\n",
    "    return result"
   ]
  },
  {
   "cell_type": "code",
   "execution_count": 122,
   "metadata": {},
   "outputs": [],
   "source": [
    "def FindListBreakFast(data):\n",
    "    # Declear variable\n",
    "    list_food = data[\"ListFood\"]\n",
    "    calor_each_meal = data[\"CaloForEachMeal\"][0]\n",
    "    print(\"BreakFast: \", calor_each_meal)\n",
    "    result = []\n",
    "    food_fix = {}\n",
    "    food_next = []\n",
    "    structure_breakfast = list_structure_breakfast(list_food)\n",
    "    print(structure_breakfast)\n",
    "    \n",
    "    element = random.choice(structure_breakfast)\n",
    "    print(\"element: \", element)\n",
    "    units = {}\n",
    "    for key in element:\n",
    "        if key == \"fix\" :\n",
    "            if len(element[\"fix\"][0]) == 1:\n",
    "                food_name = element[key][0][0]\n",
    "                rule = element[key][1:]\n",
    "                calor_food = float(list_food[food_name][1])\n",
    "                food_fix[food_name] = caculate_gram(rule, calor_food, calor_each_meal)\n",
    "        else:\n",
    "            types = key\n",
    "            rule = element[key]\n",
    "#             print(types)\n",
    "            list_food_types = find_type(list_food, types)\n",
    "            sorted_by_value = dict(sorted(list_food_types.items(), \n",
    "                                          key=lambda kv: kv[1][3], reverse=True))\n",
    "            best_food = []\n",
    "            for count, units in enumerate(sorted_by_value):\n",
    "                if count > 2: break \n",
    "                else: # pick three foods have best score\n",
    "                    best_food.append(units)\n",
    "            combination = nCi(best_food, rule[1])\n",
    "#             print(combination)\n",
    "            for index, element_combination in enumerate (combination):\n",
    "                tamp = {}\n",
    "                for food_name in element_combination:\n",
    "                    calor_food = float(list_food[food_name][1])\n",
    "                    tamp[food_name] = caculate_gram(rule, calor_food, calor_each_meal)\n",
    "                    combination[index] = tamp\n",
    "            food_next.append(combination)\n",
    "    \n",
    "    # create result\n",
    "    food_next.append([food_fix])\n",
    "#     print('food_next: ', food_next)\n",
    "    tamp = list(itertools.product(*food_next))\n",
    "    for item in tamp:\n",
    "        if food_not_use_together(list_food, item):\n",
    "            result.append(item)\n",
    "    return result\n",
    "\n",
    "def FindlistDinner(data):\n",
    "    structure_dinner = list_structure_dinner(list_food[\"only_food_name\"])\n",
    "    print(structure_dinner)\n",
    "    \n",
    "def FindlistLunch(data):\n",
    "    # Declear variable\n",
    "    list_food = data[\"ListFood\"]\n",
    "    calor_each_meal = data[\"CaloForEachMeal\"][1]\n",
    "    print(\"lunch: \", calor_each_meal)\n",
    "    result = []\n",
    "    food_fix = {}\n",
    "    food_next = []\n",
    "    structure_lunch = list_structure_lunch(list_food)\n",
    "    \n",
    "    element = random.choice(structure_lunch)\n",
    "    print(\"element: \", element)\n",
    "    units = {}\n",
    "    for key in element:\n",
    "        if key == \"fix\" :\n",
    "            if len(element[\"fix\"][0]) == 1:\n",
    "                food_name = element[key][0][0]\n",
    "                rule = element[key][1:]\n",
    "                calor_food = float(list_food[food_name][1])\n",
    "                food_fix[food_name] = caculate_gram(rule, calor_food, calor_each_meal)\n",
    "        else:\n",
    "            types = key\n",
    "            rule = element[key]\n",
    "#             print(types)\n",
    "            list_food_types = find_type(list_food, types)\n",
    "            sorted_by_value = dict(sorted(list_food_types.items(), \n",
    "                                          key=lambda kv: kv[1][3], reverse=True))\n",
    "            best_food = []\n",
    "            for count, units in enumerate(sorted_by_value):\n",
    "                if count > 2: break \n",
    "                else: # pick three foods have best score\n",
    "                    best_food.append(units)\n",
    "            combination = nCi(best_food, rule[1])\n",
    "#             print(combination)\n",
    "            for index, element_combination in enumerate (combination):\n",
    "                tamp = {}\n",
    "                for food_name in element_combination:\n",
    "                    calor_food = float(list_food[food_name][1])\n",
    "                    tamp[food_name] = caculate_gram(rule, calor_food, calor_each_meal)\n",
    "                    combination[index] = tamp\n",
    "            food_next.append(combination)\n",
    "    \n",
    "    # create result\n",
    "    food_next.append([food_fix])\n",
    "#     print('food_next: ', food_next)\n",
    "    tamp = list(itertools.product(*food_next))\n",
    "    for item in tamp:\n",
    "        if food_not_use_together(list_food, item):\n",
    "            result.append(item)\n",
    "    return result"
   ]
  },
  {
   "cell_type": "code",
   "execution_count": 123,
   "metadata": {},
   "outputs": [
    {
     "name": "stdout",
     "output_type": "stream",
     "text": [
      "BreakFast:  622.44\n",
      "[]\n"
     ]
    },
    {
     "ename": "IndexError",
     "evalue": "Cannot choose from an empty sequence",
     "output_type": "error",
     "traceback": [
      "\u001b[1;31m---------------------------------------------------------------------------\u001b[0m",
      "\u001b[1;31mIndexError\u001b[0m                                Traceback (most recent call last)",
      "\u001b[1;32m<ipython-input-123-9078f7f5d7dd>\u001b[0m in \u001b[0;36m<module>\u001b[1;34m()\u001b[0m\n\u001b[1;32m----> 1\u001b[1;33m \u001b[0mprint\u001b[0m\u001b[1;33m(\u001b[0m\u001b[0mlen\u001b[0m\u001b[1;33m(\u001b[0m\u001b[0mFindListBreakFast\u001b[0m\u001b[1;33m(\u001b[0m\u001b[0mknown\u001b[0m\u001b[1;33m)\u001b[0m\u001b[1;33m[\u001b[0m\u001b[1;36m1\u001b[0m\u001b[1;33m]\u001b[0m\u001b[1;33m)\u001b[0m\u001b[1;33m)\u001b[0m\u001b[1;33m\u001b[0m\u001b[0m\n\u001b[0m",
      "\u001b[1;32m<ipython-input-122-f51f92c38213>\u001b[0m in \u001b[0;36mFindListBreakFast\u001b[1;34m(data)\u001b[0m\n\u001b[0;32m     10\u001b[0m     \u001b[0mprint\u001b[0m\u001b[1;33m(\u001b[0m\u001b[0mstructure_breakfast\u001b[0m\u001b[1;33m)\u001b[0m\u001b[1;33m\u001b[0m\u001b[0m\n\u001b[0;32m     11\u001b[0m \u001b[1;33m\u001b[0m\u001b[0m\n\u001b[1;32m---> 12\u001b[1;33m     \u001b[0melement\u001b[0m \u001b[1;33m=\u001b[0m \u001b[0mrandom\u001b[0m\u001b[1;33m.\u001b[0m\u001b[0mchoice\u001b[0m\u001b[1;33m(\u001b[0m\u001b[0mstructure_breakfast\u001b[0m\u001b[1;33m)\u001b[0m\u001b[1;33m\u001b[0m\u001b[0m\n\u001b[0m\u001b[0;32m     13\u001b[0m     \u001b[0mprint\u001b[0m\u001b[1;33m(\u001b[0m\u001b[1;34m\"element: \"\u001b[0m\u001b[1;33m,\u001b[0m \u001b[0melement\u001b[0m\u001b[1;33m)\u001b[0m\u001b[1;33m\u001b[0m\u001b[0m\n\u001b[0;32m     14\u001b[0m     \u001b[0munits\u001b[0m \u001b[1;33m=\u001b[0m \u001b[1;33m{\u001b[0m\u001b[1;33m}\u001b[0m\u001b[1;33m\u001b[0m\u001b[0m\n",
      "\u001b[1;32m~\\Anaconda3\\lib\\random.py\u001b[0m in \u001b[0;36mchoice\u001b[1;34m(self, seq)\u001b[0m\n\u001b[0;32m    256\u001b[0m             \u001b[0mi\u001b[0m \u001b[1;33m=\u001b[0m \u001b[0mself\u001b[0m\u001b[1;33m.\u001b[0m\u001b[0m_randbelow\u001b[0m\u001b[1;33m(\u001b[0m\u001b[0mlen\u001b[0m\u001b[1;33m(\u001b[0m\u001b[0mseq\u001b[0m\u001b[1;33m)\u001b[0m\u001b[1;33m)\u001b[0m\u001b[1;33m\u001b[0m\u001b[0m\n\u001b[0;32m    257\u001b[0m         \u001b[1;32mexcept\u001b[0m \u001b[0mValueError\u001b[0m\u001b[1;33m:\u001b[0m\u001b[1;33m\u001b[0m\u001b[0m\n\u001b[1;32m--> 258\u001b[1;33m             \u001b[1;32mraise\u001b[0m \u001b[0mIndexError\u001b[0m\u001b[1;33m(\u001b[0m\u001b[1;34m'Cannot choose from an empty sequence'\u001b[0m\u001b[1;33m)\u001b[0m \u001b[1;32mfrom\u001b[0m \u001b[1;32mNone\u001b[0m\u001b[1;33m\u001b[0m\u001b[0m\n\u001b[0m\u001b[0;32m    259\u001b[0m         \u001b[1;32mreturn\u001b[0m \u001b[0mseq\u001b[0m\u001b[1;33m[\u001b[0m\u001b[0mi\u001b[0m\u001b[1;33m]\u001b[0m\u001b[1;33m\u001b[0m\u001b[0m\n\u001b[0;32m    260\u001b[0m \u001b[1;33m\u001b[0m\u001b[0m\n",
      "\u001b[1;31mIndexError\u001b[0m: Cannot choose from an empty sequence"
     ]
    }
   ],
   "source": [
    "print(len(FindListBreakFast(known)[1]))"
   ]
  },
  {
   "cell_type": "code",
   "execution_count": 22,
   "metadata": {},
   "outputs": [
    {
     "name": "stdout",
     "output_type": "stream",
     "text": [
      "['name', 'height', 'weight', 'gender', 'age', 'PhysicalActiveLevel', 'target', 'ListIllness', 'BMIvalue', 'BMIrange', 'BMIlevel', 'BMRvalue', 'PhysicalActiveValue', 'CaloPerDay', 'CaloForEachMeal', 'ListAvoidFood', 'ListNeedFood', 'ListLimitFood', 'ListFood']\n"
     ]
    }
   ],
   "source": [
    "print ([key for key in known])"
   ]
  },
  {
   "cell_type": "code",
   "execution_count": 14,
   "metadata": {},
   "outputs": [
    {
     "name": "stdout",
     "output_type": "stream",
     "text": [
      "[('ab',), ('bc',), ('dc',)]\n",
      "[('a',), ('b',), ('c',)]\n"
     ]
    },
    {
     "data": {
      "text/plain": [
       "['ab', 'ac', 'bc']"
      ]
     },
     "execution_count": 14,
     "metadata": {},
     "output_type": "execute_result"
    }
   ],
   "source": [
    "tamp = list(itertools.combinations(['ab','bc','dc'],1))\n",
    "\n",
    "print(tamp)\n",
    "print(list(itertools.combinations(['a','b','c'],1)))\n",
    "[''.join(x) for x in itertools.combinations(['a','b','c'],2)]"
   ]
  },
  {
   "cell_type": "code",
   "execution_count": 17,
   "metadata": {},
   "outputs": [
    {
     "name": "stdout",
     "output_type": "stream",
     "text": [
      "[(['a', 'b', 'c'], ['d', 'e'], ['f', 'g'])]\n"
     ]
    }
   ],
   "source": [
    "def nCi(n_array, number):\n",
    "    result = None\n",
    "    \n",
    "    result = list(itertools.combinations(n_array,number))\n",
    "    return result\n",
    "\n",
    "a = nCi([['a','b','c'], ['d','e'],['f', 'g']], 3)\n",
    "print (a)"
   ]
  },
  {
   "cell_type": "code",
   "execution_count": 87,
   "metadata": {},
   "outputs": [
    {
     "name": "stdout",
     "output_type": "stream",
     "text": [
      "False\n"
     ]
    }
   ],
   "source": [
    "def food_not_use_together(list_food, meal):\n",
    "    list_food_name = []\n",
    "    list_food_not_use = set()\n",
    "    for item in meal:\n",
    "        for food_name in item:\n",
    "            list_food_name.append(food_name)\n",
    "            food_not_use = re.findall(r'\\[(.*?)\\]',list_food[food_name][2])\n",
    "            food_not_use = food_not_use[0].split(\",\")\n",
    "            food_not_use = list(map(lambda x: x.replace(\"'\", \"\"), food_not_use))\n",
    "            for item in food_not_use:\n",
    "                list_food_not_use.add(item.strip())\n",
    "    for food in list_food_name:\n",
    "        if food in list_food_not_use:\n",
    "            return False\n",
    "    return True\n",
    "print(food_not_use_together(known['ListFood'], [{'Tôm': 2}, {'Bí_đỏ': 3}]))"
   ]
  },
  {
   "cell_type": "code",
   "execution_count": 67,
   "metadata": {},
   "outputs": [
    {
     "ename": "SyntaxError",
     "evalue": "invalid syntax (<ipython-input-67-bc1aff6265cb>, line 2)",
     "output_type": "error",
     "traceback": [
      "\u001b[1;36m  File \u001b[1;32m\"<ipython-input-67-bc1aff6265cb>\"\u001b[1;36m, line \u001b[1;32m2\u001b[0m\n\u001b[1;33m    for item in food_next:\u001b[0m\n\u001b[1;37m                         ^\u001b[0m\n\u001b[1;31mSyntaxError\u001b[0m\u001b[1;31m:\u001b[0m invalid syntax\n"
     ]
    }
   ],
   "source": [
    "food_next = [[[{'Mực': [143.64, 181.8]}, {'Cua': [143.64, 169.0]}, {'Cá_chép': [143.64, 113.1]}], [{'Cà_rốt': [95.76, 233.6]}, {'Atiso': [95.76, 203.7]}, {'Bí_đỏ': [95.76, 17.1]}]]\n",
    "for item in food_next:\n",
    "             \n",
    "    if item"
   ]
  },
  {
   "cell_type": "code",
   "execution_count": 78,
   "metadata": {},
   "outputs": [
    {
     "name": "stdout",
     "output_type": "stream",
     "text": [
      "[12.0, 20.0]\n"
     ]
    }
   ],
   "source": [
    "#rule_meal = [0.1, 1]\n",
    "\n",
    "\n",
    "def caculate_gram(rule_meal, calor_food, calor_per_meal): #return \n",
    "    result = None\n",
    "    \n",
    "    calor_food_for_meal = rule_meal[0] * calor_per_meal\n",
    "    portion = round(calor_food_for_meal / calor_food * 100, 1)\n",
    "    \n",
    "    result = [calor_food_for_meal, portion]\n",
    "    return result\n",
    "\n",
    "print(caculate_gram([0.1, 1], 60, 120))"
   ]
  },
  {
   "cell_type": "code",
   "execution_count": 29,
   "metadata": {},
   "outputs": [
    {
     "name": "stdout",
     "output_type": "stream",
     "text": [
      "81\n"
     ]
    }
   ],
   "source": [
    "a = [[{'Cơm': [3,2]}], [{'Thịt_bò': [95.76, 37.7]}, {'Thịt_cừu': [95.76, 34.0]}, {'Thịt_dê': [95.76, 78.5]}], [{'Mực': [95.76, 121.2]}, {'Cua': [95.76, 112.7]}, {'Cá_chép': [95.76, 75.4]}], [{'Cà_rốt': [95.76, 233.6]}, {'Atiso': [95.76, 203.7]}, {'Bí_đỏ': [95.76, 17.1]}], [{'Bắp': [191.52, 222.7]}, {'Dưa_hấu': [191.52, 638.4]}, {'Nho': [191.52, 64.1]}]]\n",
    "result = list(itertools.product(*a))\n",
    "print(len(result))"
   ]
  },
  {
   "cell_type": "code",
   "execution_count": 45,
   "metadata": {},
   "outputs": [],
   "source": [
    "def caculate_menu_score(menu, list_food):\n",
    "    result = None\n",
    "    score_real = 0\n",
    "    score_abstract = 0\n",
    "    confident = None\n",
    "    ideal_score = 2\n",
    "    for meal in menu:\n",
    "        for item in meal:\n",
    "            for food in item:\n",
    "                score_real += list_food[food][3] # food_score\n",
    "                score_abstract += ideal_score\n",
    "     \n",
    "    print(score_abstract)\n",
    "    print(score_real)\n",
    "    confident = round(score_real / score_abstract * 100, 2)\n",
    "    print(confident)\n",
    "    menu = (menu, confident)\n",
    "    return menu"
   ]
  },
  {
   "cell_type": "code",
   "execution_count": 4,
   "metadata": {},
   "outputs": [],
   "source": [
    "menu = ([['Cơm', 226.16, 110.9], ['Trứng_gà', 84.81, 22], ['Thịt_dê', 84.81, 24]], [['Cơm', 226.16, 110.9], ['Trứng_gà', 84.81, 22], ['Thịt_dê', 84.81, 24], ['Thịt_bò', 33, 55]], [['Dưa_hấu', 226.16, 110.9], ['Đậu_đỏ', 84.81, 22], ['Hẹ', 84.81, 24], ['Kiwi', 33, 55]])"
   ]
  },
  {
   "cell_type": "code",
   "execution_count": 9,
   "metadata": {},
   "outputs": [
    {
     "name": "stdout",
     "output_type": "stream",
     "text": [
      "[31.58, 34.21, 34.21]\n"
     ]
    }
   ],
   "source": [
    "def caculate_calo(menu):\n",
    "    result = 0\n",
    "    for meal in menu:\n",
    "        for food in meal:\n",
    "            result += food[1]\n",
    "\n",
    "    return result\n",
    "\n",
    "def portion_meal(menu, calo_menu):\n",
    "    result = []\n",
    "    for meal in menu:\n",
    "        meal_calo = 0\n",
    "        for food in meal:\n",
    "            meal_calo += food[1]\n",
    "        tamp = round(meal_calo / calo_menu * 100, 2)\n",
    "        result.append(tamp)\n",
    "\n",
    "    return result\n",
    "print(portion_meal(menu, caculate_calo(menu)))"
   ]
  },
  {
   "cell_type": "code",
   "execution_count": 57,
   "metadata": {},
   "outputs": [
    {
     "name": "stdout",
     "output_type": "stream",
     "text": [
      "None\n",
      "[(3, 2, 3), (3, 3, 4)]\n"
     ]
    }
   ],
   "source": [
    "f.write(\"Những chất dinh dưỡng: \", str(\", \".join(result['Has_Nutrient'])))"
   ]
  },
  {
   "cell_type": "code",
   "execution_count": 10,
   "metadata": {},
   "outputs": [
    {
     "name": "stdout",
     "output_type": "stream",
     "text": [
      "s\n"
     ]
    }
   ],
   "source": [
    "one = 22\n",
    "if one in range(22, 30+1):\n",
    "    print(\"s\")"
   ]
  },
  {
   "cell_type": "code",
   "execution_count": null,
   "metadata": {},
   "outputs": [],
   "source": []
  }
 ],
 "metadata": {
  "kernelspec": {
   "display_name": "Python 3",
   "language": "python",
   "name": "python3"
  },
  "language_info": {
   "codemirror_mode": {
    "name": "ipython",
    "version": 3
   },
   "file_extension": ".py",
   "mimetype": "text/x-python",
   "name": "python",
   "nbconvert_exporter": "python",
   "pygments_lexer": "ipython3",
   "version": "3.6.5"
  }
 },
 "nbformat": 4,
 "nbformat_minor": 2
}
